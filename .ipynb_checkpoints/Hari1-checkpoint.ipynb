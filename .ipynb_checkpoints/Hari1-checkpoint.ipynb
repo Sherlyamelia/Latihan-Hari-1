{
 "cells": [
  {
   "cell_type": "code",
   "execution_count": 5,
   "id": "4e18b872-1150-4c88-a97c-13df8afc35ab",
   "metadata": {},
   "outputs": [
    {
     "name": "stdout",
     "output_type": "stream",
     "text": [
      "Saya belajar Python\n",
      "Saya suka ular Python\n",
      "Ini coba error\"\n"
     ]
    }
   ],
   "source": [
    "print('Saya belajar Python')\n",
    "print(\"Saya suka ular Python\")\n",
    "print('Ini coba error\"')"
   ]
  },
  {
   "cell_type": "code",
   "execution_count": 7,
   "id": "ea5b54ac-c981-4e90-8ea4-91de033ca4be",
   "metadata": {},
   "outputs": [
    {
     "name": "stdout",
     "output_type": "stream",
     "text": [
      "3\n",
      "c\n"
     ]
    }
   ],
   "source": [
    "a=1\n",
    "b=2\n",
    "c=a+b\n",
    "print(c)   #akan dicetak isinya c\n",
    "print(\"c\")  #akan dicetak c apa adanya."
   ]
  },
  {
   "cell_type": "code",
   "execution_count": 8,
   "id": "61e5a630-f47e-49de-a557-da4680d53ebf",
   "metadata": {},
   "outputs": [
    {
     "name": "stdout",
     "output_type": "stream",
     "text": [
      "Luasnya adalah : 200\n"
     ]
    }
   ],
   "source": [
    "#proggram hitung luas segi empat\n",
    "#input :\n",
    "panjang = 20\n",
    "lebar =10\n",
    "#proses :\n",
    "luas=panjang*lebar\n",
    "#output \"\n",
    "print('Luasnya adalah :', luas)"
   ]
  },
  {
   "cell_type": "code",
   "execution_count": null,
   "id": "e5e66d22-39e4-4029-8dfc-ebb8e6149f96",
   "metadata": {},
   "outputs": [],
   "source": [
    "#buatlah program yang sama untuk hitung luas segitiga..."
   ]
  },
  {
   "cell_type": "code",
   "execution_count": 10,
   "id": "074dcdb8-bbc6-4f69-851f-2bd62be22976",
   "metadata": {},
   "outputs": [
    {
     "name": "stdin",
     "output_type": "stream",
     "text": [
      "Masukkan panjang :  30\n",
      "Masukkan lebar :  15\n"
     ]
    },
    {
     "name": "stdout",
     "output_type": "stream",
     "text": [
      "Luasnya adalah : 450\n"
     ]
    }
   ],
   "source": [
    "#proggram hitung luas segi empat\n",
    "#input :\n",
    "panjang = int(input('Masukkan panjang : '))\n",
    "lebar = int(input('Masukkan lebar : '))\n",
    "#proses :\n",
    "luas=panjang*lebar\n",
    "#output \"\n",
    "print('Luasnya adalah :', luas)"
   ]
  },
  {
   "cell_type": "code",
   "execution_count": 11,
   "id": "3dcf48ec-a8ae-47a2-ace8-e6a448843256",
   "metadata": {},
   "outputs": [
    {
     "name": "stdout",
     "output_type": "stream",
     "text": [
      "100\n"
     ]
    }
   ],
   "source": [
    "#Mengenal tipe data pada angka\n",
    "#tipe integer, yaitu bilangan bulat (tanpa koma)\n",
    "a=30\n",
    "b=50\n",
    "c=20\n",
    "d=a+b+c\n",
    "print(d) "
   ]
  },
  {
   "cell_type": "code",
   "execution_count": 13,
   "id": "617e09f3-04e5-41c3-a5ea-ffccc5c8bea8",
   "metadata": {},
   "outputs": [
    {
     "name": "stdout",
     "output_type": "stream",
     "text": [
      "102.9\n",
      "44.23\n"
     ]
    }
   ],
   "source": [
    "#Mengenal tipe data pada angka\n",
    "#tipe float/real, yaitu bilangan desimal/pecahan(pakai koma)\n",
    "a=30.45\n",
    "b=52.35\n",
    "c=20.10\n",
    "d=a+b+c\n",
    "print(d)\n",
    "\n",
    "x=10\n",
    "y=34.23\n",
    "z=x+y\n",
    "print(z)"
   ]
  },
  {
   "cell_type": "code",
   "execution_count": 16,
   "id": "d4b3f437-3506-442d-9332-e08242572631",
   "metadata": {},
   "outputs": [
    {
     "name": "stdout",
     "output_type": "stream",
     "text": [
      "Ade Budi Cahyono 082332398798 3542131712450003\n",
      "Namaku :  Ade Budi Cahyono  No Hp : 082332398798  No. Ktp :  3542131712450003\n",
      "Ade Budi Cahyono0823323987983542131712450003\n",
      "Ade Budi Cahyono 082332398798 3542131712450003\n"
     ]
    }
   ],
   "source": [
    "#data bertipe string (kumpulan char=huruf)\n",
    "namaku='Ade Budi Cahyono'\n",
    "nohp='082332398798'\n",
    "noktp='3542131712450003'\n",
    "print(namaku,nohp,noktp)\n",
    "print('Namaku : ',namaku,' No Hp :',nohp,' No. Ktp : ',noktp)\n",
    "gabung=namaku+nohp+noktp\n",
    "print(gabung)\n",
    "gabung=namaku+' '+nohp+' '+noktp\n",
    "print(gabung)"
   ]
  },
  {
   "cell_type": "code",
   "execution_count": null,
   "id": "6490c0e3-5628-4e73-be7a-278412e21736",
   "metadata": {},
   "outputs": [],
   "source": [
    "#Percabangan dalam Python\n",
    "#Percabangan Tunggal\n",
    "#Percabangan Ganda\n",
    "#Percabangan Majemuk"
   ]
  },
  {
   "cell_type": "code",
   "execution_count": 3,
   "id": "fc91121e-4a5d-42a7-ab07-c466291381c1",
   "metadata": {},
   "outputs": [
    {
     "name": "stdout",
     "output_type": "stream",
     "text": [
      "Itu Bilangan Positif\n",
      "Angka anda adalah : 5\n"
     ]
    }
   ],
   "source": [
    "#Contoh Percabangan Tunggal\n",
    "A = 5  #silahkan coba dengan angka lain :0, -2, -5, 10\n",
    "if A>0 :\n",
    "    print('Itu Bilangan Positif')  #bagian yg agak masuk ini akan dikerjakan jika\n",
    "                                   #kondisi A>0 terpenuhi\n",
    "print('Angka anda adalah :', A)"
   ]
  },
  {
   "cell_type": "code",
   "execution_count": 5,
   "id": "ca7993f7-c60b-4b45-9ee4-eb5c523538f0",
   "metadata": {},
   "outputs": [
    {
     "name": "stdout",
     "output_type": "stream",
     "text": [
      "Itu bukan Bilangan Positif\n",
      "Angka anda adalah : -5\n"
     ]
    }
   ],
   "source": [
    "#Contoh Percabangan Ganda\n",
    "A = -5  #silahkan coba dengan angka lain :0, -2, -5, 10\n",
    "if A>0 :\n",
    "    print('Itu Bilangan Positif')  #bagian yg agak masuk ini akan dikerjakan jika\n",
    "                                   #kondisi A>0 terpenuhi\n",
    "else:\n",
    "    print('Itu bukan Bilangan Positif')\n",
    "    \n",
    "print('Angka anda adalah :', A)"
   ]
  },
  {
   "cell_type": "code",
   "execution_count": 7,
   "id": "a321649d-839c-40da-92a6-5b1c57735fe5",
   "metadata": {},
   "outputs": [
    {
     "name": "stdin",
     "output_type": "stream",
     "text": [
      "Masukkan angka 0\n"
     ]
    },
    {
     "name": "stdout",
     "output_type": "stream",
     "text": [
      "Itu Bilangan Nol\n",
      "Angka anda adalah : 0\n"
     ]
    }
   ],
   "source": [
    "#Contoh Percabangan Majemuk Biasa\n",
    "A = int(input('Masukkan angka'))  #silahkan coba dengan angka lain :0, -2, -5, 10\n",
    "if A>0 :\n",
    "    print('Itu Bilangan Positif')  #bagian yg agak masuk ini akan dikerjakan jika\n",
    "                                   #kondisi A>0 terpenuhi\n",
    "elif A<0:          #adalah gabungan else dan if selanjutnya\n",
    "    print('Itu Bilangan Negatif')\n",
    "else:\n",
    "    print('Itu Bilangan Nol')\n",
    "    \n",
    "print('Angka anda adalah :', A)"
   ]
  },
  {
   "cell_type": "code",
   "execution_count": 8,
   "id": "d823474a-3851-4ef3-97d4-685e27939455",
   "metadata": {},
   "outputs": [
    {
     "name": "stdin",
     "output_type": "stream",
     "text": [
      "Masukkan angka -5\n"
     ]
    },
    {
     "name": "stdout",
     "output_type": "stream",
     "text": [
      "Itu Bilangan Negatif\n",
      "Angka anda adalah : -5\n"
     ]
    }
   ],
   "source": [
    "#Contoh Percabangan Majemuk Bertingkat\n",
    "A = int(input('Masukkan angka'))  #silahkan coba dengan angka lain :0, -2, -5, 10\n",
    "if A>0 :\n",
    "    print('Itu Bilangan Positif')  #bagian yg agak masuk ini akan dikerjakan jika\n",
    "                                   #kondisi A>0 terpenuhi\n",
    "else:\n",
    "    if A<0:          #adalah gabungan else dan if selanjutnya\n",
    "        print('Itu Bilangan Negatif')\n",
    "    else:\n",
    "        print('Itu Bilangan Nol')\n",
    "    \n",
    "print('Angka anda adalah :', A)"
   ]
  },
  {
   "cell_type": "code",
   "execution_count": 9,
   "id": "670530e7-3146-4e89-810f-22a99dde107e",
   "metadata": {},
   "outputs": [
    {
     "name": "stdout",
     "output_type": "stream",
     "text": [
      "5 3 8 15 2 1.6666666666666667 1 2\n"
     ]
    }
   ],
   "source": [
    "#Aritmatika di Python\n",
    "A=5\n",
    "B=3\n",
    "C=A+B\n",
    "D=A*B\n",
    "E=A-B\n",
    "F=A/B\n",
    "G=A//B  #dibagi kemudian di bulatkan kebawah\n",
    "H=A%B   # tanda % adalah Modulo,yaitu sisa hasil bagi\n",
    "print(A,B,C,D,E,F,G,H)"
   ]
  },
  {
   "cell_type": "code",
   "execution_count": 10,
   "id": "279e1ae7-7762-41da-a5be-7cd654413a0b",
   "metadata": {},
   "outputs": [
    {
     "name": "stdout",
     "output_type": "stream",
     "text": [
      "1\n",
      "0\n",
      "1\n",
      "0\n",
      "0\n"
     ]
    }
   ],
   "source": [
    "print(1%2)\n",
    "print(2%2)\n",
    "print(3%2)\n",
    "print(4%2)\n",
    "print(287482974%2)\n",
    "#kesimpulan : apapun angkanya jika di %2 hasilnya 1 berarti GANJIL\n",
    "#kesimpulan : apapun angkanya jika di %2 hasilnya 0 berarti GENAP"
   ]
  },
  {
   "cell_type": "code",
   "execution_count": 13,
   "id": "c3b1498e-a8c5-4265-a96d-c9657420a3a4",
   "metadata": {},
   "outputs": [
    {
     "name": "stdin",
     "output_type": "stream",
     "text": [
      "Masukkan angka : 3\n"
     ]
    },
    {
     "name": "stdout",
     "output_type": "stream",
     "text": [
      "Itu Bilangan Ganjil\n",
      "Angka anda adalah : 3\n"
     ]
    }
   ],
   "source": [
    "#Contoh Percabangan Ganda Ganjil Genap\n",
    "A = int(input('Masukkan angka :'))  #silahkan coba dengan angka lain :0, -2, -5, 10\n",
    "if A%2==0 :\n",
    "    print('Itu Bilangan Genap')  #bagian yg agak masuk ini akan dikerjakan jika\n",
    "                                   #kondisi A>0 terpenuhi\n",
    "else:\n",
    "    print('Itu Bilangan Ganjil')\n",
    "    \n",
    "print('Angka anda adalah :', A)"
   ]
  },
  {
   "cell_type": "code",
   "execution_count": null,
   "id": "796aa9e3-180a-441d-88e5-125f30ea3f90",
   "metadata": {},
   "outputs": [],
   "source": [
    "#Buatkan program untuk mengecek apakah suatu angka itu:\n",
    "#1. Ganjil Positif\n",
    "#2. Ganjil Negatif\n",
    "#3. Genap Positif\n",
    "#4. Genap Negatif\n",
    "#5. Nol"
   ]
  },
  {
   "cell_type": "code",
   "execution_count": null,
   "id": "77c1848d-cec7-449a-a07f-f1a7e6b02e8d",
   "metadata": {},
   "outputs": [],
   "source": [
    "A = int(input('Masukkan Angka: '))\n",
    "if A == 0:\n",
    "    print(\"Angka Nol\")\n",
    "elif A > 0:\n",
    "    if A % 2 == 0:\n",
    "        print(\"Genap Positif\")\n",
    "    else:\n",
    "        print(\"Ganjil Positif\")\n",
    "else:\n",
    "    if A % 2 == 0:\n",
    "        print(\"Genap Negatif\")\n",
    "    else:\n",
    "        print(\"Ganjil Negatif\")\n",
    "\n",
    "print('Angka Anda adalah:', A)"
   ]
  },
  {
   "cell_type": "code",
   "execution_count": null,
   "id": "71403ed0-e8c4-4640-819f-1f7d167d92f3",
   "metadata": {},
   "outputs": [],
   "source": [
    "#Statemen PERULANGAN dengan FOR\n",
    "#Fungsinya untuk mengulang2 bagian program sehingga lebih singkat\n",
    "for i in range(0, 5):  #range(0,5) mengandung angka : 0,1,2,3,dan 4\n",
    "    print(\"Indonesia Raya\")\n",
    "    print(i)"
   ]
  },
  {
   "cell_type": "code",
   "execution_count": null,
   "id": "b802983c-9ec3-44db-a6ff-725f24c4cc2b",
   "metadata": {},
   "outputs": [],
   "source": [
    "for i in [0,1,2,3,4]: \n",
    "    print(\"Indonesia Raya\")\n",
    "    print(i)"
   ]
  },
  {
   "cell_type": "code",
   "execution_count": null,
   "id": "9d347147-5708-4345-9679-351180886d1e",
   "metadata": {},
   "outputs": [],
   "source": [
    "#Latihan :buatlah program perulangan untuk mencetak nama anda 100x"
   ]
  },
  {
   "cell_type": "code",
   "execution_count": null,
   "id": "422e0591-437a-4734-a57f-998ad2e2ebce",
   "metadata": {},
   "outputs": [],
   "source": [
    "#Perulangan menggunakan WHILE hanya dilakukan jika syaratnya masihterpenuhi\n",
    "i = 1\n",
    "while i <= 5:  #di samping sintaks WHILE, ada syarat nya\n",
    "    print(i)\n",
    "    i += 1\n"
   ]
  },
  {
   "cell_type": "code",
   "execution_count": null,
   "id": "658cfe2e-0e6c-4885-8b87-5bfdf1a49e08",
   "metadata": {},
   "outputs": [],
   "source": [
    "# Menggunakan while dengan break untuk mencetak angka dari 1 hingga 5\n",
    "i = 1\n",
    "while True:\n",
    "    print(i)\n",
    "    i += 1\n",
    "    if i > 5:\n",
    "        break"
   ]
  },
  {
   "cell_type": "code",
   "execution_count": 16,
   "id": "48fec835-cd88-4527-94db-6cfbca85021a",
   "metadata": {},
   "outputs": [
    {
     "name": "stdout",
     "output_type": "stream",
     "text": [
      "1\n",
      "3\n",
      "5\n",
      "7\n",
      "9\n"
     ]
    }
   ],
   "source": [
    "# Menggunakan while dengan continue untuk mencetak angka ganjil dari 1 hingga 10\n",
    "i = 1\n",
    "while i <= 10:\n",
    "    if i % 2 == 0:   #cek,jika GENAP \n",
    "        i += 1\n",
    "        continue  #untuk lompat ke perulangan berikutnya, tanpa menjalankan perintah dibawahnya\n",
    "    print(i)\n",
    "    i += 1"
   ]
  },
  {
   "cell_type": "code",
   "execution_count": 18,
   "id": "1da90f82-7043-4595-8606-4bbf4c764fb4",
   "metadata": {},
   "outputs": [
    {
     "name": "stdout",
     "output_type": "stream",
     "text": [
      "Bilangan  1 Ganjil\n",
      "Bilangan  2 Genap\n",
      "Bilangan  3 Ganjil\n",
      "Bilangan  4 Genap\n",
      "Bilangan  5 Ganjil\n",
      "Bilangan  6 Genap\n"
     ]
    }
   ],
   "source": [
    "#Kombinasi perulangan dan percabangan \n",
    "for x in [1,2,3,4,5,6]:\n",
    "    if x%2==0: #jika x modulo 2 sama dengan 0 maka genap\n",
    "        print(\"Bilangan \",x, \"Genap\")\n",
    "    else:   #jika x modulo 2 TIDAK sama dengan 0 maka ganjil\n",
    "        print(\"Bilangan \",x, \"Ganjil\")"
   ]
  },
  {
   "cell_type": "code",
   "execution_count": null,
   "id": "b855c9c9-1449-4d4b-84e2-e0e397dbf452",
   "metadata": {},
   "outputs": [],
   "source": [
    "#Mengenal FUNGSI/Sub Program \n",
    "#Sub program/fungsi adalah program pendek yang dibuat sebagai \n",
    "#modul khusus sesuai kebutuhan kita.\n",
    "#Sub program/fungsi didefinisikan dgn perintah : def\n",
    "\n",
    "def my_fungsi():\n",
    "    print(\"Hello from a function\")\n",
    "    print(\"Saya belajar fungsi\")\n",
    "    \n",
    "#Bagian untuk pemanggilan fungsi :\n",
    "my_fungsi()\n",
    "my_fungsi()\n",
    "my_fungsi()\n",
    "#jika fungsi tidak pernah dipanggil,maka tidak akan pernah\n",
    "#dijalankan oleh python"
   ]
  },
  {
   "cell_type": "code",
   "execution_count": 20,
   "id": "7b499e89-924f-4d9a-894c-bbfef76b3d39",
   "metadata": {},
   "outputs": [
    {
     "name": "stdout",
     "output_type": "stream",
     "text": [
      "Luas persegi panj dgn p=5,l=6 adalah 30\n",
      "Luas persegi panj dgn p=10,l=6 adalah 60\n",
      "Luas persegi panj dgn p=15,l=10 adalah 150\n"
     ]
    }
   ],
   "source": [
    "#parameter fungsi(mengirim nilai ke fungsi)\n",
    "def persegipanjang(panjang,lebar):\n",
    "    luas=panjang*lebar\n",
    "    return luas #perintah return berguna untuk mengembalikan \n",
    "                #suatu nilai ke source code pemanggilnya\n",
    "\n",
    "print('Luas persegi panj dgn p=5,l=6 adalah',persegipanjang(5,6))\n",
    "print('Luas persegi panj dgn p=10,l=6 adalah',persegipanjang(10,6))\n",
    "print('Luas persegi panj dgn p=15,l=10 adalah',persegipanjang(15,10))"
   ]
  },
  {
   "cell_type": "code",
   "execution_count": 21,
   "id": "67d07874-5232-4d69-aae9-5477d0d22a63",
   "metadata": {},
   "outputs": [
    {
     "name": "stdout",
     "output_type": "stream",
     "text": [
      "['apple', 'banana', 'cherry']\n",
      "3\n"
     ]
    }
   ],
   "source": [
    "#Mengenal variabel array /LIST\n",
    "#LIST : Sebuah variabel yang isinya ada beberapa/banyak data\n",
    "#Contoh berikut variabel thislist berisi 3 data. \n",
    "#Contoh diambil dari https://www.w3schools.com/python\n",
    "thislist = [\"apple\", \"banana\", \"cherry\"]\n",
    "\n",
    "print(thislist)\n",
    "print(len(thislist)) #fungsi len gunanya untuk menampilkan jumlah data \n",
    "                     #dalam thislist"
   ]
  },
  {
   "cell_type": "code",
   "execution_count": 22,
   "id": "ac8f788f-ab1d-441d-973d-093ae46328ea",
   "metadata": {},
   "outputs": [
    {
     "name": "stdout",
     "output_type": "stream",
     "text": [
      "['apple', 5, True, -10, 0.345]\n",
      "5\n"
     ]
    }
   ],
   "source": [
    "thislist = [\"apple\", 5, True, -10, 0.345]\n",
    "\n",
    "print(thislist)\n",
    "print(len(thislist)) #fungsi len gunanya untuk menampilkan jumlah data \n",
    "                     #dalam thislist"
   ]
  },
  {
   "cell_type": "code",
   "execution_count": null,
   "id": "d81bbe0f-ecae-424a-ba22-d2254107b9cb",
   "metadata": {},
   "outputs": [],
   "source": [
    "#Cara mengakses satu isi List dengan menyebut nomor indeks\n",
    "thislist = [\"apple\", \"banana\", \"cherry\"]\n",
    "#  noindex :   0        1          2       (dari kiri)\n",
    "#  noindex :   -3       -2        -1       (dari kanan)\n",
    "print(thislist[0])\n",
    "print(thislist[1])\n",
    "print(thislist[2])\n",
    "print(thislist[-1])\n",
    "print(thislist[-2])"
   ]
  },
  {
   "cell_type": "code",
   "execution_count": null,
   "id": "b6c9b1bf-ca85-4b35-8d6f-772c8487180b",
   "metadata": {},
   "outputs": [],
   "source": [
    "#Cara mengakses beberapa isi List dengan menyebut nomor indeks awal/akhir\n",
    "thislist=[\"apple\",\"banana\",\"cherry\",\"orange\",\"kiwi\",\"melon\",\"mango\"]\n",
    "print(thislist[2:5])     #[posisi awal : posisi akhir]\n",
    "print(thislist[ :4])\n",
    "print(thislist[2: ])\n",
    "print(thislist[-4:-1])\n",
    "if \"banana\" in thislist:\n",
    "    print(\"Yes, 'banana' is in the fruits list\")\n",
    "    print('Banana in index: ',thislist.index('banana'))"
   ]
  },
  {
   "cell_type": "code",
   "execution_count": null,
   "id": "d56299f9-8a64-47e8-b520-c6b4dfbdd731",
   "metadata": {},
   "outputs": [],
   "source": [
    "#Mengganti satu atau sebagian isi List\n",
    "thislist = [\"apple\",\"banana\",\"cherry\",\"orange\",\"kiwi\",\"melon\",\"mango\"]\n",
    "thislist[1] = \"blackcurrant\"   #mengganti satu data\n",
    "print(thislist)\n",
    "thislist = [\"apple\", \"banana\", \"cherry\", \"orange\", \"kiwi\", \"mango\"]\n",
    "thislist[1:3] = [\"blackcurrant\", \"watermelon\"]  #ganti bbrp data\n",
    "print(thislist)"
   ]
  },
  {
   "cell_type": "code",
   "execution_count": 25,
   "id": "8a5f7d55-25c0-415c-904b-69e92de1c238",
   "metadata": {},
   "outputs": [
    {
     "name": "stdout",
     "output_type": "stream",
     "text": [
      "['apple', 'banana', 'cherry']\n",
      "['Jambu dersono', 'apple', 'banana', 'cherry']\n",
      "['Jambu dersono', 'apple', 'kelengkeng', 'banana', 'cherry']\n",
      "['Jambu dersono', 'apple', 'kelengkeng', 'banana', 'cherry', 'orange']\n"
     ]
    }
   ],
   "source": [
    "#Menambah isi list dari posisi tengah dan belakang\n",
    "thislist = [\"apple\", \"banana\", \"cherry\"]\n",
    "print(thislist)\n",
    "thislist.insert(0,\"Jambu dersono\")    #menyisipkan di awal, index no 0\n",
    "print(thislist)\n",
    "thislist.insert(2,\"kelengkeng\")    #menyisipkan di tengah, index no 2\n",
    "print(thislist)\n",
    "thislist.append(\"orange\")          #menyisipkan di belakang\n",
    "print(thislist)\n"
   ]
  },
  {
   "cell_type": "code",
   "execution_count": 26,
   "id": "f8628d3d-fe38-438b-9c15-2792408bba46",
   "metadata": {},
   "outputs": [
    {
     "name": "stdout",
     "output_type": "stream",
     "text": [
      "Result:  ['Python', 'PHP', 'Java', ['C', 'C++', 'C#']]\n",
      "Panjang Languages 1 : 4\n"
     ]
    }
   ],
   "source": [
    "#Menggabungkan dua list menggunakan fungsi append\n",
    "languages1=['Python','PHP','Java',]\n",
    "languages2=['C','C++','C#']\n",
    "# Menambahkan List 2 ke List 1 dengan perintah Append\n",
    "languages1.append(languages2)\n",
    "print(\"Result: \",languages1)\n",
    "print(\"Panjang Languages 1 :\",len(languages1))"
   ]
  },
  {
   "cell_type": "code",
   "execution_count": 27,
   "id": "c90989f7-b1ed-4a08-b62c-3d7ee6ea9ffd",
   "metadata": {},
   "outputs": [
    {
     "name": "stdout",
     "output_type": "stream",
     "text": [
      "Result:  ['Python', 'PHP', 'Java', 'C', 'C++', 'C#']\n",
      "Panjang Languages 1 : 6\n"
     ]
    }
   ],
   "source": [
    "#Menggabungkan dua list menggunakan fungsi append\n",
    "languages1=['Python','PHP','Java',]\n",
    "languages2=['C','C++','C#']\n",
    "# Menambahkan List 2 ke List 1 dengan perintah Append\n",
    "languages1.extend(languages2)\n",
    "print(\"Result: \",languages1)\n",
    "print(\"Panjang Languages 1 :\",len(languages1))"
   ]
  },
  {
   "cell_type": "code",
   "execution_count": null,
   "id": "fb122b29-3628-42a2-91a0-32b8620df648",
   "metadata": {},
   "outputs": [],
   "source": [
    "#Tipe data TUPLE\n",
    "#Tuple adalah sekumpulan data mirip LIST tapi tidak bisa di edit/tambah.\n",
    "#Ciri-Ciri : diawali tanda kurung ( dan diakhiri )\n",
    "#bandingkan dengan list :\n",
    "fruits = [\"apple\", \"banana\", \"cherry\"]\n",
    "print(fruits)\n",
    "#tuple itu begini :\n",
    "thistuple = (\"apple\", \"banana\",  \"cherry\")\n",
    "print(thistuple)"
   ]
  },
  {
   "cell_type": "code",
   "execution_count": 28,
   "id": "ef0633ed-4251-4979-8dc3-08c572ab9abe",
   "metadata": {},
   "outputs": [
    {
     "name": "stdout",
     "output_type": "stream",
     "text": [
      "{'brand': 'Ford', 'model': 'Mustang', 'year': 1964}\n"
     ]
    }
   ],
   "source": [
    "#Tipe data DICTIONARY\n",
    "#Ciri cirinya :BERPASANGAN, diawali dan diakhiri tanda { }\n",
    "#setiap pasangan dipisahkan dengan tanda koma ,\n",
    "#dalam sebuah pasangan, sisi kiri dan kanan dipisah tanda :\n",
    "thisdict = {\n",
    "  \"brand\": \"Ford\",\n",
    "  \"model\": \"Mustang\",\n",
    "  \"year\": 1964\n",
    "}\n",
    "print(thisdict)"
   ]
  },
  {
   "cell_type": "code",
   "execution_count": null,
   "id": "38e8087b-47e1-43a8-af3d-787838f8298f",
   "metadata": {},
   "outputs": [],
   "source": [
    "#pandas adalah library python khusus untuk data analisis\n",
    "#berikut cara import library pandas sekaligus bikin nama alias :pd\n",
    "import pandas as pd \n",
    "#Membuat tabel pandas baru bertipe dataframe dengan nama : df\n",
    "#pd dipakai untuk membuat tabel pandas baru dari sebuah dictionary\n",
    "dict={\"A\":[1,4,7], \n",
    "      \"B\":[2,5,8], \n",
    "      \"C\":[3,6,9]}\n",
    "df = pd.DataFrame(dict)  #disini df adalah berupa tabel pandas\n",
    "print(df)\n",
    "df"
   ]
  },
  {
   "cell_type": "code",
   "execution_count": null,
   "id": "2b89e07c-d93d-41fe-ae29-97e10161517c",
   "metadata": {},
   "outputs": [],
   "source": [
    "import pandas as pd\n",
    "\n",
    "# Membuat DataFrame\n",
    "data = {\n",
    "    'Nama': ['Alice', 'Bob', 'Charlie'],\n",
    "    'Usia': [25, 30, 35],\n",
    "    'Kota': ['New York', 'Los Angeles', 'Chicago']\n",
    "}\n",
    "df = pd.DataFrame(data)\n",
    "\n",
    "# Menampilkan DataFrame\n",
    "print(df)"
   ]
  },
  {
   "cell_type": "code",
   "execution_count": null,
   "id": "08e53c49-9fa1-4068-9cfe-f830b8104e33",
   "metadata": {},
   "outputs": [],
   "source": [
    "# Mengakses data\n",
    "usia_baris_pertama = df.loc[0, 'Usia']\n",
    "print('Usia baris pertama:', usia_baris_pertama)\n",
    "\n",
    "# Menambahkan kolom baru\n",
    "df['Pekerjaan'] = ['Engineer', 'Doctor', 'Artist']\n",
    "\n",
    "# Mengubah nilai di kolom 'Kota'\n",
    "df.loc[df['Nama'] == 'Bob', 'Kota'] = 'San Francisco'\n",
    "\n",
    "print(df)"
   ]
  },
  {
   "cell_type": "code",
   "execution_count": null,
   "id": "a81c1982-a69b-4a64-934c-96ec790a2a64",
   "metadata": {},
   "outputs": [],
   "source": [
    "# Memfilter DataFrame\n",
    "filtered_df = df[df['Usia'] > 28]\n",
    "print('Data setelah filter:\\n', filtered_df)\n",
    "\n",
    "# Mengurutkan DataFrame\n",
    "sorted_df = df.sort_values(by='Usia', ascending=False)\n",
    "print('Data setelah diurutkan:\\n', sorted_df)"
   ]
  },
  {
   "cell_type": "code",
   "execution_count": 34,
   "id": "4f6c92d6-8b85-4361-b4c6-22d2bd1a4ad7",
   "metadata": {},
   "outputs": [
    {
     "name": "stdout",
     "output_type": "stream",
     "text": [
      "  Kategori  Nilai\n",
      "0        A     10\n",
      "1        B     20\n",
      "2        A     30\n",
      "3        B     40\n",
      "Total nilai per kategori:\n",
      "           Nilai\n",
      "Kategori       \n",
      "A            40\n",
      "B            60\n"
     ]
    }
   ],
   "source": [
    "# Membuat DataFrame untuk Grouping-SUM yang kategorinya sama\n",
    "data = {\n",
    "    'Kategori': ['A', 'B', 'A', 'B'],\n",
    "    'Nilai': [10, 20, 30, 40]\n",
    "}\n",
    "df = pd.DataFrame(data)\n",
    "print(df)\n",
    "# Mengelompokkan dan menghitung total nilai\n",
    "grouped_df = df.groupby('Kategori').sum()\n",
    "print('Total nilai per kategori:\\n', grouped_df)"
   ]
  },
  {
   "cell_type": "code",
   "execution_count": 35,
   "id": "b82f053a-b22f-4b59-aa63-5ec28ea47455",
   "metadata": {},
   "outputs": [
    {
     "name": "stdout",
     "output_type": "stream",
     "text": [
      "   Nama  Nilai Kategori\n",
      "0  John     85    Lulus\n",
      "1  Jane     90    Lulus\n",
      "2   Jim     78    Lulus\n",
      "3  Jono     45    Gagal\n"
     ]
    }
   ],
   "source": [
    "# Membuat DataFrame\n",
    "data = {\n",
    "    'Nama': ['John', 'Jane', 'Jim' , 'Jono'],\n",
    "    'Nilai': [85, 90, 78, 45]\n",
    "}\n",
    "df = pd.DataFrame(data)\n",
    "\n",
    "# Fungsi untuk mengkategorikan nilai\n",
    "def categorize(nilai):\n",
    "    return 'Lulus' if nilai > 50 else 'Gagal'\n",
    "\n",
    "# Menggunakan apply untuk menerapkan fungsi\n",
    "df['Kategori'] = df['Nilai'].apply(categorize)\n",
    "print(df)\n"
   ]
  },
  {
   "cell_type": "code",
   "execution_count": 36,
   "id": "e8447f8f-76d6-4e4f-a5d1-8a69532214bb",
   "metadata": {},
   "outputs": [
    {
     "name": "stdout",
     "output_type": "stream",
     "text": [
      "DataFrame yang digabungkan:\n",
      "    ID   Nama  Usia\n",
      "0   1  Alice    25\n",
      "1   2    Bob    30\n"
     ]
    }
   ],
   "source": [
    "import pandas as pd\n",
    "\n",
    "# Membuat DataFrame pertama\n",
    "df1 = pd.DataFrame({\n",
    "    'ID': [1, 2],\n",
    "    'Nama': ['Alice', 'Bob']\n",
    "})\n",
    "\n",
    "# Membuat DataFrame kedua\n",
    "df2 = pd.DataFrame({\n",
    "    'ID': [1, 2],\n",
    "    'Usia': [25, 30]\n",
    "})\n",
    "\n",
    "# Menggabungkan DataFrame\n",
    "merged_df = pd.merge(df1, df2, on='ID')\n",
    "print('DataFrame yang digabungkan:\\n', merged_df)"
   ]
  },
  {
   "cell_type": "code",
   "execution_count": null,
   "id": "ae1aba09-d78e-4543-b5ef-a63f6ae4a007",
   "metadata": {},
   "outputs": [],
   "source": [
    "# Membuat DataFrame dengan duplikat dan nilai yang hilang\n",
    "df = pd.DataFrame({\n",
    "    'Nama': ['Alice', 'Bob', 'Alice', 'Charlie'],\n",
    "    'Usia': [25, 30, 25, None]\n",
    "})\n",
    "# Menghapus baris duplikat\n",
    "df = df.drop_duplicates()\n",
    "# Mengisi nilai yang hilang dengan nilai rata-rata\n",
    "df['Usia'] = df['Usia'].fillna(df['Usia'].mean())\n",
    "print('DataFrame setelah menghapus duplikat dan mengisi nilai yang hilang:\\n', df)"
   ]
  },
  {
   "cell_type": "code",
   "execution_count": 38,
   "id": "9b4a1c87-3aff-45c9-8c1e-6de3a2b9878d",
   "metadata": {},
   "outputs": [
    {
     "name": "stdout",
     "output_type": "stream",
     "text": [
      "Data untuk produk dengan Kode A002:\n",
      " Produk    Pisang\n",
      "Harga        200\n",
      "Diskon      20.0\n",
      "Name: A002, dtype: object\n"
     ]
    },
    {
     "data": {
      "text/html": [
       "<div>\n",
       "<style scoped>\n",
       "    .dataframe tbody tr th:only-of-type {\n",
       "        vertical-align: middle;\n",
       "    }\n",
       "\n",
       "    .dataframe tbody tr th {\n",
       "        vertical-align: top;\n",
       "    }\n",
       "\n",
       "    .dataframe thead th {\n",
       "        text-align: right;\n",
       "    }\n",
       "</style>\n",
       "<table border=\"1\" class=\"dataframe\">\n",
       "  <thead>\n",
       "    <tr style=\"text-align: right;\">\n",
       "      <th></th>\n",
       "      <th>Produk</th>\n",
       "      <th>Harga</th>\n",
       "      <th>Diskon</th>\n",
       "    </tr>\n",
       "    <tr>\n",
       "      <th>Kode</th>\n",
       "      <th></th>\n",
       "      <th></th>\n",
       "      <th></th>\n",
       "    </tr>\n",
       "  </thead>\n",
       "  <tbody>\n",
       "    <tr>\n",
       "      <th>A001</th>\n",
       "      <td>Apel</td>\n",
       "      <td>100</td>\n",
       "      <td>10.0</td>\n",
       "    </tr>\n",
       "    <tr>\n",
       "      <th>A002</th>\n",
       "      <td>Pisang</td>\n",
       "      <td>200</td>\n",
       "      <td>20.0</td>\n",
       "    </tr>\n",
       "    <tr>\n",
       "      <th>A003</th>\n",
       "      <td>Jeruk</td>\n",
       "      <td>150</td>\n",
       "      <td>15.0</td>\n",
       "    </tr>\n",
       "  </tbody>\n",
       "</table>\n",
       "</div>"
      ],
      "text/plain": [
       "      Produk  Harga  Diskon\n",
       "Kode                       \n",
       "A001    Apel    100    10.0\n",
       "A002  Pisang    200    20.0\n",
       "A003   Jeruk    150    15.0"
      ]
     },
     "execution_count": 38,
     "metadata": {},
     "output_type": "execute_result"
    }
   ],
   "source": [
    "# Membuat DataFrame\n",
    "df = pd.DataFrame({\n",
    "    'Kode': ['A001', 'A002', 'A003'],\n",
    "    'Produk': ['Apel', 'Pisang', 'Jeruk'],\n",
    "    'Harga': [100, 200, 150]\n",
    "})\n",
    "# Mengatur kolom 'Kode' sebagai index\n",
    "df.set_index('Kode', inplace=True)\n",
    "# Menambahkan kolom 'Diskon'\n",
    "df['Diskon'] = df['Harga'] * 0.10\n",
    "# Menampilkan data untuk 'Kode' A002\n",
    "print('Data untuk produk dengan Kode A002:\\n', df.loc['A002'])\n",
    "df"
   ]
  },
  {
   "cell_type": "code",
   "execution_count": null,
   "id": "481901b1-cb47-4400-8c97-84b2ba6697a1",
   "metadata": {},
   "outputs": [],
   "source": []
  }
 ],
 "metadata": {
  "kernelspec": {
   "display_name": "Python 3 (ipykernel)",
   "language": "python",
   "name": "python3"
  },
  "language_info": {
   "codemirror_mode": {
    "name": "ipython",
    "version": 3
   },
   "file_extension": ".py",
   "mimetype": "text/x-python",
   "name": "python",
   "nbconvert_exporter": "python",
   "pygments_lexer": "ipython3",
   "version": "3.12.4"
  }
 },
 "nbformat": 4,
 "nbformat_minor": 5
}
