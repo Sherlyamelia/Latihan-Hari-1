{
 "cells": [
  {
   "cell_type": "code",
   "execution_count": null,
   "id": "4db15f53-e326-4278-b183-2cd0f614e11e",
   "metadata": {},
   "outputs": [],
   "source": [
    "print(\"Saya belajar Python\")\n",
    "print(\"Saya suka ular Python\")"
   ]
  },
  {
   "cell_type": "code",
   "execution_count": 7,
   "id": "c429502e-67f9-4508-b3d5-ca8d5459f307",
   "metadata": {},
   "outputs": [
    {
     "name": "stdout",
     "output_type": "stream",
     "text": [
      "3\n",
      "c\n"
     ]
    }
   ],
   "source": [
    "a=1\n",
    "b=2\n",
    "c=a+b\n",
    "print(c) #\n",
    "print(\"c\")"
   ]
  },
  {
   "cell_type": "code",
   "execution_count": 13,
   "id": "d62d691c-ab55-4b41-bf2b-591c2babfcab",
   "metadata": {},
   "outputs": [
    {
     "name": "stdout",
     "output_type": "stream",
     "text": [
      "Luasnya adalah : 200\n"
     ]
    }
   ],
   "source": [
    "#program hitung luas segi empat\n",
    "#input :\n",
    "panjang = 20\n",
    "lebar = 10\n",
    "#proses :\n",
    "luas=panjang*lebar\n",
    "#output :\n",
    "print(\"Luasnya adalah :\", luas)"
   ]
  },
  {
   "cell_type": "code",
   "execution_count": 17,
   "id": "c376391f-85c9-4caa-8734-da45982bbc10",
   "metadata": {},
   "outputs": [
    {
     "name": "stdout",
     "output_type": "stream",
     "text": [
      "Luasnya adalah : 125\n"
     ]
    }
   ],
   "source": [
    "#program hitung luas kubus\n",
    "#input :\n",
    "sisi = 5\n",
    "#proses :\n",
    "luas=sisi*sisi*sisi\n",
    "#output :\n",
    "print(\"Luasnya adalah :\", luas)"
   ]
  },
  {
   "cell_type": "code",
   "execution_count": 19,
   "id": "b5607f1e-74cc-4d20-a519-4924d1e7dae5",
   "metadata": {},
   "outputs": [
    {
     "name": "stdout",
     "output_type": "stream",
     "text": [
      "Luasnya adalah : 20.0\n"
     ]
    }
   ],
   "source": [
    "#program hitung luas segitiga\n",
    "#input :\n",
    "alas = 5\n",
    "tinggi = 8\n",
    "#proses :\n",
    "luas=1/2*alas*tinggi\n",
    "#output :\n",
    "print(\"Luasnya adalah :\", luas)"
   ]
  },
  {
   "cell_type": "code",
   "execution_count": 21,
   "id": "618392f4-6f05-43ad-8c25-15caebf0d0f5",
   "metadata": {},
   "outputs": [
    {
     "name": "stdin",
     "output_type": "stream",
     "text": [
      "Masukkan panjang :  8\n",
      "Masukkan lebar :  4\n"
     ]
    },
    {
     "name": "stdout",
     "output_type": "stream",
     "text": [
      "Luasnya adalah : 32\n"
     ]
    }
   ],
   "source": [
    "#program hitung luas segi empat\n",
    "#input :\n",
    "panjang = int(input(\"Masukkan panjang : \"))\n",
    "lebar = int(input(\"Masukkan lebar : \"))\n",
    "#proses :\n",
    "luas=panjang*lebar\n",
    "#output :\n",
    "print(\"Luasnya adalah :\", luas)"
   ]
  },
  {
   "cell_type": "code",
   "execution_count": 23,
   "id": "80f07f09-a725-477a-9f16-5953515ccf54",
   "metadata": {},
   "outputs": [
    {
     "name": "stdin",
     "output_type": "stream",
     "text": [
      "Masukkan alas :  9\n",
      "Masukkan tinggi :  12\n"
     ]
    },
    {
     "name": "stdout",
     "output_type": "stream",
     "text": [
      "Luasnya adalah : 54.0\n"
     ]
    }
   ],
   "source": [
    "alas = int(input(\"Masukkan alas : \"))\n",
    "tinggi = int(input(\"Masukkan tinggi : \"))\n",
    "luas=1/2*alas*tinggi\n",
    "print(\"Luasnya adalah :\", luas)"
   ]
  },
  {
   "cell_type": "code",
   "execution_count": 25,
   "id": "7b8292b4-f68f-40ad-ad57-5e90ad91cf39",
   "metadata": {},
   "outputs": [
    {
     "name": "stdout",
     "output_type": "stream",
     "text": [
      "100\n"
     ]
    }
   ],
   "source": [
    "#Mengenal tipe data pada angka\n",
    "#tipe integer, yaitu bilangan bulat (tanpa koma)\n",
    "a=30\n",
    "b=50\n",
    "c=20\n",
    "d=a+b+c\n",
    "print(d)"
   ]
  },
  {
   "cell_type": "code",
   "execution_count": 31,
   "id": "508620e4-1d6a-4a6f-bb85-62dfa9c58f66",
   "metadata": {},
   "outputs": [
    {
     "name": "stdout",
     "output_type": "stream",
     "text": [
      "102.9\n",
      "44.23\n"
     ]
    }
   ],
   "source": [
    "#Mengenal tipe data pada angka\n",
    "#tipe float/real, yaitu bilangan desimal/pecahan (pakai koma)\n",
    "a=30.45\n",
    "b=52.35\n",
    "c=20.10\n",
    "d=a+b+c\n",
    "print(d)\n",
    "\n",
    "x=10\n",
    "y=34.23\n",
    "z=x+y\n",
    "print(z)"
   ]
  },
  {
   "cell_type": "code",
   "execution_count": 51,
   "id": "f87a91f2-9718-4ded-a2a6-7414c35fc2fc",
   "metadata": {},
   "outputs": [
    {
     "name": "stdout",
     "output_type": "stream",
     "text": [
      "Sherly Amelia Putri 08384203517 jl. hasanudin\n",
      "Nama :  Sherly Amelia Putri No Hp :  08384203517 Alamat :  jl. hasanudin\n",
      "Sherly Amelia Putri08384203517jl. hasanudin\n",
      "Sherly Amelia Putri 08384203517 jl. hasanudin\n"
     ]
    }
   ],
   "source": [
    "#tipe data string (kumpulan char=huruf)\n",
    "nama = \"Sherly Amelia Putri\"\n",
    "nohp = \"08384203517\"\n",
    "alamat = \"jl. hasanudin\"\n",
    "print(nama, nohp, alamat)\n",
    "print(\"Nama : \",nama, \"No Hp : \",nohp, \"Alamat : \",alamat)\n",
    "gabung=nama+nohp+alamat\n",
    "print(gabung)\n",
    "gabung=nama+\" \"+nohp+\" \"+alamat\n",
    "print(gabung)\n",
    "\n",
    "      "
   ]
  },
  {
   "cell_type": "code",
   "execution_count": 1,
   "id": "c34eaf7a-26d0-4030-997a-fab61e0e3c42",
   "metadata": {},
   "outputs": [],
   "source": [
    "#Percabangan dalam python\n",
    "#Percabangan tunggal\n",
    "#Percabangan ganda\n",
    "#Percabangan majemuk\n"
   ]
  },
  {
   "cell_type": "code",
   "execution_count": 18,
   "id": "d0a72249-281d-42d0-91f9-a125d6d5364d",
   "metadata": {},
   "outputs": [
    {
     "name": "stdout",
     "output_type": "stream",
     "text": [
      "Itu Bilangan Positif\n",
      "Angka anda adalah : 7\n"
     ]
    }
   ],
   "source": [
    "#Contoh percabangan Tunggal\n",
    "A = 7\n",
    "if A>0 :\n",
    "    print('Itu Bilangan Positif')\n",
    "\n",
    "print('Angka anda adalah :', A)"
   ]
  },
  {
   "cell_type": "code",
   "execution_count": 24,
   "id": "f6fe30ba-2464-44a4-b9e9-e5d2e07782e1",
   "metadata": {},
   "outputs": [
    {
     "name": "stdout",
     "output_type": "stream",
     "text": [
      "Itu bukan Bilangan Positif\n",
      "Angka anda adalah : -7\n"
     ]
    }
   ],
   "source": [
    "#Contoh percabangan Ganda\n",
    "A = -7\n",
    "if A>0 :\n",
    "    print('Itu Bilangan Positif')\n",
    "\n",
    "else:\n",
    "    print('Itu bukan Bilangan Positif')\n",
    "\n",
    "print('Angka anda adalah :', A)"
   ]
  },
  {
   "cell_type": "code",
   "execution_count": 32,
   "id": "fff22ba5-16b9-4a51-9f14-68f90821dccc",
   "metadata": {},
   "outputs": [
    {
     "name": "stdin",
     "output_type": "stream",
     "text": [
      "Masukkan angka 0\n"
     ]
    },
    {
     "name": "stdout",
     "output_type": "stream",
     "text": [
      "Itu Bilangan Nol\n",
      "Angka anda adalah : 0\n"
     ]
    }
   ],
   "source": [
    "#Contoh percabangan Majemuk\n",
    "A = int(input('Masukkan angka'))\n",
    "if A>0 :\n",
    "    print('Itu Bilangan Positif')\n",
    "\n",
    "elif A<0: #merupakan gabungan else dan if\n",
    "    print('Itu Bilangan Negatif')\n",
    "\n",
    "else:\n",
    "    print('Itu Bilangan Nol')\n",
    "\n",
    "print('Angka anda adalah :', A)"
   ]
  },
  {
   "cell_type": "code",
   "execution_count": 34,
   "id": "f250eac2-480a-44c2-81e3-477e17a78cce",
   "metadata": {},
   "outputs": [
    {
     "name": "stdin",
     "output_type": "stream",
     "text": [
      "Masukkan angka 2\n"
     ]
    },
    {
     "name": "stdout",
     "output_type": "stream",
     "text": [
      "Itu Bilangan Positif\n",
      "Angka anda adalah : 2\n"
     ]
    }
   ],
   "source": [
    "#Contoh percabangan majemuk bertingkat\n",
    "A = int(input('Masukkan angka'))\n",
    "if A>0 :\n",
    "    print('Itu Bilangan Positif')\n",
    "\n",
    "else:\n",
    "    if A<0: #merupakan gabungan else dan if\n",
    "        print('Itu Bilangan Negatif')\n",
    "    else:\n",
    "        print('Itu Bilangan Nol')\n",
    "\n",
    "print('Angka anda adalah :', A)"
   ]
  },
  {
   "cell_type": "code",
   "execution_count": 40,
   "id": "4d955c31-8c4c-4b9c-b0cc-35ab8720d2cd",
   "metadata": {},
   "outputs": [
    {
     "name": "stdout",
     "output_type": "stream",
     "text": [
      "15 3 18 45 12 5.0 5 0\n"
     ]
    }
   ],
   "source": [
    "#Aritmatika di Python\n",
    "A=15\n",
    "B=3\n",
    "C=A+B\n",
    "D=A*B\n",
    "E=A-B\n",
    "F=A/B\n",
    "G=A//B  #dibagi kemudian di bulatkan kebawah\n",
    "H=A%B  #tanda % adalah Modulo, yaitu sisa hasil bagi\n",
    "print(A,B,C,D,E,F,G,H)"
   ]
  },
  {
   "cell_type": "code",
   "execution_count": 42,
   "id": "9cb15302-4ae5-4ecc-89e1-797058ea0c85",
   "metadata": {},
   "outputs": [
    {
     "name": "stdout",
     "output_type": "stream",
     "text": [
      "1\n",
      "0\n",
      "1\n",
      "0\n",
      "0\n"
     ]
    }
   ],
   "source": [
    "print(1%2)\n",
    "print(2%2)\n",
    "print(3%2)\n",
    "print(4%2)\n",
    "print(27389426%2)\n",
    "#Kesimpulan : apapun angkanya jika di %2 hasilnya 1 berarti Ganjil\n",
    "#Kesimpulan : apapun angkanya jika di %2 hasilnya 0 berarti Genap"
   ]
  },
  {
   "cell_type": "code",
   "execution_count": 46,
   "id": "65b80c6f-6804-4e2c-a7f6-3df0cd220acd",
   "metadata": {},
   "outputs": [
    {
     "name": "stdin",
     "output_type": "stream",
     "text": [
      "Masukkan angka: 2\n"
     ]
    },
    {
     "name": "stdout",
     "output_type": "stream",
     "text": [
      "Itu Bilangan Genap\n",
      "Angka anda adalah : 2\n"
     ]
    }
   ],
   "source": [
    "#Contoh percabangan ganjil genap\n",
    "A = int(input('Masukkan angka:'))\n",
    "if A%2==0 :\n",
    "    print('Itu Bilangan Genap')\n",
    "\n",
    "else:\n",
    "    print('Itu Bilangan Ganjil')\n",
    "\n",
    "print('Angka anda adalah :', A)"
   ]
  },
  {
   "cell_type": "code",
   "execution_count": 48,
   "id": "2a921fa4-c323-436c-b5d1-dae3ccd90474",
   "metadata": {},
   "outputs": [
    {
     "name": "stdin",
     "output_type": "stream",
     "text": [
      "Masukkan angka 2\n"
     ]
    },
    {
     "name": "stdout",
     "output_type": "stream",
     "text": [
      "Itu Bilangan Positif\n",
      "Angka anda adalah : 2\n"
     ]
    }
   ],
   "source": [
    "#Program untuk mengecek angka ganjil positif\n",
    "A = int(input('Masukkan angka'))\n",
    "if A>0 :\n",
    "    print('Itu Bilangan Positif')\n",
    "\n",
    "else:\n",
    "    if A%2==0 :\n",
    "        print('Itu Bilangan Ganjil')\n",
    "    else:\n",
    "        print('Itu Bilangan Genap')\n",
    "\n",
    "print('Angka anda adalah :', A)"
   ]
  },
  {
   "cell_type": "code",
   "execution_count": 60,
   "id": "42288455-0cf4-4042-81af-2d0815acec8c",
   "metadata": {},
   "outputs": [
    {
     "name": "stdin",
     "output_type": "stream",
     "text": [
      "Masukkan angka:  2\n"
     ]
    },
    {
     "name": "stdout",
     "output_type": "stream",
     "text": [
      "Itu adalah bilangan ganjil positif\n",
      "Angka anda adalah: 2\n"
     ]
    }
   ],
   "source": [
    "#Program bilangan ganjil genap positif negatif menggunakan majemuk\n",
    "A = int(input('Masukkan angka: '))\n",
    "\n",
    "if A > 0:\n",
    "    if A % 2 == 0:  \n",
    "        print('Itu adalah bilangan ganjil positif')\n",
    "    else:\n",
    "        print('Itu adalah bilangan genap positif')\n",
    "elif A < 0:\n",
    "    if A % 2 == 0:  \n",
    "        print('Itu adalah bilangan ganjil negatif')\n",
    "    else:\n",
    "        print('Itu adalah bilangan genap negatif')\n",
    "else:\n",
    "    print('Itu adalah angka nol')\n",
    "\n",
    "print('Angka anda adalah:', A)\n"
   ]
  },
  {
   "cell_type": "code",
   "execution_count": 62,
   "id": "43f40d6e-0f8b-4873-a671-2a982f52e542",
   "metadata": {},
   "outputs": [],
   "source": [
    "#Statement perulangan for\n",
    "#Fungsinya untuk mengulang bagian program sehingga lebih singkat\n",
    "\n"
   ]
  },
  {
   "cell_type": "code",
   "execution_count": 70,
   "id": "9aa747cf-f195-46e0-9d5b-0fad187253fd",
   "metadata": {},
   "outputs": [
    {
     "name": "stdout",
     "output_type": "stream",
     "text": [
      "Sherly Amelia Putri\n",
      "Sherly Amelia Putri\n",
      "Sherly Amelia Putri\n",
      "Sherly Amelia Putri\n",
      "Sherly Amelia Putri\n",
      "Sherly Amelia Putri\n",
      "Sherly Amelia Putri\n",
      "Sherly Amelia Putri\n",
      "Sherly Amelia Putri\n",
      "Sherly Amelia Putri\n",
      "Sherly Amelia Putri\n",
      "Sherly Amelia Putri\n",
      "Sherly Amelia Putri\n",
      "Sherly Amelia Putri\n",
      "Sherly Amelia Putri\n",
      "Sherly Amelia Putri\n",
      "Sherly Amelia Putri\n",
      "Sherly Amelia Putri\n",
      "Sherly Amelia Putri\n",
      "Sherly Amelia Putri\n",
      "Sherly Amelia Putri\n",
      "Sherly Amelia Putri\n",
      "Sherly Amelia Putri\n",
      "Sherly Amelia Putri\n",
      "Sherly Amelia Putri\n",
      "Sherly Amelia Putri\n",
      "Sherly Amelia Putri\n",
      "Sherly Amelia Putri\n",
      "Sherly Amelia Putri\n",
      "Sherly Amelia Putri\n",
      "Sherly Amelia Putri\n",
      "Sherly Amelia Putri\n",
      "Sherly Amelia Putri\n",
      "Sherly Amelia Putri\n",
      "Sherly Amelia Putri\n",
      "Sherly Amelia Putri\n",
      "Sherly Amelia Putri\n",
      "Sherly Amelia Putri\n",
      "Sherly Amelia Putri\n",
      "Sherly Amelia Putri\n",
      "Sherly Amelia Putri\n",
      "Sherly Amelia Putri\n",
      "Sherly Amelia Putri\n",
      "Sherly Amelia Putri\n",
      "Sherly Amelia Putri\n",
      "Sherly Amelia Putri\n",
      "Sherly Amelia Putri\n",
      "Sherly Amelia Putri\n",
      "Sherly Amelia Putri\n",
      "Sherly Amelia Putri\n",
      "Sherly Amelia Putri\n",
      "Sherly Amelia Putri\n",
      "Sherly Amelia Putri\n",
      "Sherly Amelia Putri\n",
      "Sherly Amelia Putri\n",
      "Sherly Amelia Putri\n",
      "Sherly Amelia Putri\n",
      "Sherly Amelia Putri\n",
      "Sherly Amelia Putri\n",
      "Sherly Amelia Putri\n",
      "Sherly Amelia Putri\n",
      "Sherly Amelia Putri\n",
      "Sherly Amelia Putri\n",
      "Sherly Amelia Putri\n",
      "Sherly Amelia Putri\n",
      "Sherly Amelia Putri\n",
      "Sherly Amelia Putri\n",
      "Sherly Amelia Putri\n",
      "Sherly Amelia Putri\n",
      "Sherly Amelia Putri\n",
      "Sherly Amelia Putri\n",
      "Sherly Amelia Putri\n",
      "Sherly Amelia Putri\n",
      "Sherly Amelia Putri\n",
      "Sherly Amelia Putri\n",
      "Sherly Amelia Putri\n",
      "Sherly Amelia Putri\n",
      "Sherly Amelia Putri\n",
      "Sherly Amelia Putri\n",
      "Sherly Amelia Putri\n",
      "Sherly Amelia Putri\n",
      "Sherly Amelia Putri\n",
      "Sherly Amelia Putri\n",
      "Sherly Amelia Putri\n",
      "Sherly Amelia Putri\n",
      "Sherly Amelia Putri\n",
      "Sherly Amelia Putri\n",
      "Sherly Amelia Putri\n",
      "Sherly Amelia Putri\n",
      "Sherly Amelia Putri\n",
      "Sherly Amelia Putri\n",
      "Sherly Amelia Putri\n",
      "Sherly Amelia Putri\n",
      "Sherly Amelia Putri\n",
      "Sherly Amelia Putri\n",
      "Sherly Amelia Putri\n",
      "Sherly Amelia Putri\n",
      "Sherly Amelia Putri\n",
      "Sherly Amelia Putri\n",
      "Sherly Amelia Putri\n"
     ]
    }
   ],
   "source": [
    "#Statement perulangan for\n",
    "#Fungsinya untuk mengulang bagian program sehingga lebih singkat\n",
    "for i in range(100):\n",
    "    print('Sherly Amelia Putri')\n"
   ]
  },
  {
   "cell_type": "code",
   "execution_count": 72,
   "id": "1f6cc406-3fb9-44f1-81f7-919197336bbd",
   "metadata": {},
   "outputs": [
    {
     "name": "stdout",
     "output_type": "stream",
     "text": [
      "Sherly Amelia Putri\n",
      "0\n",
      "Sherly Amelia Putri\n",
      "1\n",
      "Sherly Amelia Putri\n",
      "2\n",
      "Sherly Amelia Putri\n",
      "3\n",
      "Sherly Amelia Putri\n",
      "4\n",
      "Sherly Amelia Putri\n",
      "5\n",
      "Sherly Amelia Putri\n",
      "6\n",
      "Sherly Amelia Putri\n",
      "7\n",
      "Sherly Amelia Putri\n",
      "8\n",
      "Sherly Amelia Putri\n",
      "9\n",
      "Sherly Amelia Putri\n",
      "10\n",
      "Sherly Amelia Putri\n",
      "11\n",
      "Sherly Amelia Putri\n",
      "12\n",
      "Sherly Amelia Putri\n",
      "13\n",
      "Sherly Amelia Putri\n",
      "14\n",
      "Sherly Amelia Putri\n",
      "15\n",
      "Sherly Amelia Putri\n",
      "16\n",
      "Sherly Amelia Putri\n",
      "17\n",
      "Sherly Amelia Putri\n",
      "18\n",
      "Sherly Amelia Putri\n",
      "19\n",
      "Sherly Amelia Putri\n",
      "20\n",
      "Sherly Amelia Putri\n",
      "21\n",
      "Sherly Amelia Putri\n",
      "22\n",
      "Sherly Amelia Putri\n",
      "23\n",
      "Sherly Amelia Putri\n",
      "24\n",
      "Sherly Amelia Putri\n",
      "25\n",
      "Sherly Amelia Putri\n",
      "26\n",
      "Sherly Amelia Putri\n",
      "27\n",
      "Sherly Amelia Putri\n",
      "28\n",
      "Sherly Amelia Putri\n",
      "29\n",
      "Sherly Amelia Putri\n",
      "30\n",
      "Sherly Amelia Putri\n",
      "31\n",
      "Sherly Amelia Putri\n",
      "32\n",
      "Sherly Amelia Putri\n",
      "33\n",
      "Sherly Amelia Putri\n",
      "34\n",
      "Sherly Amelia Putri\n",
      "35\n",
      "Sherly Amelia Putri\n",
      "36\n",
      "Sherly Amelia Putri\n",
      "37\n",
      "Sherly Amelia Putri\n",
      "38\n",
      "Sherly Amelia Putri\n",
      "39\n",
      "Sherly Amelia Putri\n",
      "40\n",
      "Sherly Amelia Putri\n",
      "41\n",
      "Sherly Amelia Putri\n",
      "42\n",
      "Sherly Amelia Putri\n",
      "43\n",
      "Sherly Amelia Putri\n",
      "44\n",
      "Sherly Amelia Putri\n",
      "45\n",
      "Sherly Amelia Putri\n",
      "46\n",
      "Sherly Amelia Putri\n",
      "47\n",
      "Sherly Amelia Putri\n",
      "48\n",
      "Sherly Amelia Putri\n",
      "49\n",
      "Sherly Amelia Putri\n",
      "50\n",
      "Sherly Amelia Putri\n",
      "51\n",
      "Sherly Amelia Putri\n",
      "52\n",
      "Sherly Amelia Putri\n",
      "53\n",
      "Sherly Amelia Putri\n",
      "54\n",
      "Sherly Amelia Putri\n",
      "55\n",
      "Sherly Amelia Putri\n",
      "56\n",
      "Sherly Amelia Putri\n",
      "57\n",
      "Sherly Amelia Putri\n",
      "58\n",
      "Sherly Amelia Putri\n",
      "59\n",
      "Sherly Amelia Putri\n",
      "60\n",
      "Sherly Amelia Putri\n",
      "61\n",
      "Sherly Amelia Putri\n",
      "62\n",
      "Sherly Amelia Putri\n",
      "63\n",
      "Sherly Amelia Putri\n",
      "64\n",
      "Sherly Amelia Putri\n",
      "65\n",
      "Sherly Amelia Putri\n",
      "66\n",
      "Sherly Amelia Putri\n",
      "67\n",
      "Sherly Amelia Putri\n",
      "68\n",
      "Sherly Amelia Putri\n",
      "69\n",
      "Sherly Amelia Putri\n",
      "70\n",
      "Sherly Amelia Putri\n",
      "71\n",
      "Sherly Amelia Putri\n",
      "72\n",
      "Sherly Amelia Putri\n",
      "73\n",
      "Sherly Amelia Putri\n",
      "74\n",
      "Sherly Amelia Putri\n",
      "75\n",
      "Sherly Amelia Putri\n",
      "76\n",
      "Sherly Amelia Putri\n",
      "77\n",
      "Sherly Amelia Putri\n",
      "78\n",
      "Sherly Amelia Putri\n",
      "79\n",
      "Sherly Amelia Putri\n",
      "80\n",
      "Sherly Amelia Putri\n",
      "81\n",
      "Sherly Amelia Putri\n",
      "82\n",
      "Sherly Amelia Putri\n",
      "83\n",
      "Sherly Amelia Putri\n",
      "84\n",
      "Sherly Amelia Putri\n",
      "85\n",
      "Sherly Amelia Putri\n",
      "86\n",
      "Sherly Amelia Putri\n",
      "87\n",
      "Sherly Amelia Putri\n",
      "88\n",
      "Sherly Amelia Putri\n",
      "89\n",
      "Sherly Amelia Putri\n",
      "90\n",
      "Sherly Amelia Putri\n",
      "91\n",
      "Sherly Amelia Putri\n",
      "92\n",
      "Sherly Amelia Putri\n",
      "93\n",
      "Sherly Amelia Putri\n",
      "94\n",
      "Sherly Amelia Putri\n",
      "95\n",
      "Sherly Amelia Putri\n",
      "96\n",
      "Sherly Amelia Putri\n",
      "97\n",
      "Sherly Amelia Putri\n",
      "98\n",
      "Sherly Amelia Putri\n",
      "99\n"
     ]
    }
   ],
   "source": [
    "for i in range(100):\n",
    "    print('Sherly Amelia Putri')\n",
    "    print(i)"
   ]
  },
  {
   "cell_type": "code",
   "execution_count": 74,
   "id": "32eea6f1-0b13-4b17-bf94-920e9c2e386f",
   "metadata": {},
   "outputs": [
    {
     "name": "stdout",
     "output_type": "stream",
     "text": [
      "1\n",
      "2\n",
      "3\n",
      "4\n",
      "5\n"
     ]
    }
   ],
   "source": [
    "#Perulangan menggunakan While hanya dilakukan jika syaratnya masih terpenuhi\n",
    "i=1\n",
    "while i<=5:\n",
    "    print(i)\n",
    "    i +=1"
   ]
  },
  {
   "cell_type": "code",
   "execution_count": 78,
   "id": "a900de26-668e-476c-9e99-7bda48775586",
   "metadata": {},
   "outputs": [
    {
     "name": "stdout",
     "output_type": "stream",
     "text": [
      "1\n",
      "2\n",
      "3\n",
      "4\n",
      "5\n"
     ]
    }
   ],
   "source": [
    "#Menggunakan while dengan break untuk mencetak angka dari 1 sampai 5\n",
    "i=1\n",
    "while True:\n",
    "    print(i)\n",
    "    i+=1\n",
    "    if i>5:\n",
    "        break"
   ]
  },
  {
   "cell_type": "code",
   "execution_count": 31,
   "id": "a498ee3a-33b7-4caf-917a-6bec64a204b0",
   "metadata": {},
   "outputs": [
    {
     "ename": "IndentationError",
     "evalue": "unexpected indent (2870011422.py, line 8)",
     "output_type": "error",
     "traceback": [
      "\u001b[1;36m  Cell \u001b[1;32mIn[31], line 8\u001b[1;36m\u001b[0m\n\u001b[1;33m    i+=1\u001b[0m\n\u001b[1;37m    ^\u001b[0m\n\u001b[1;31mIndentationError\u001b[0m\u001b[1;31m:\u001b[0m unexpected indent\n"
     ]
    }
   ],
   "source": [
    "#Menggunakan while dengan contonue untuk mencetak angka ganjil dari 1 sampai 10\n",
    "i=1\n",
    "while i<=10:\n",
    "    if i%2==0: #cek jika genap\n",
    "        i+=1\n",
    "        continue #untuk lompat ke perulangan berikutnya, tanpa menjalankan perintah dibawah\n",
    "    print(i)\n",
    "     i+=1"
   ]
  },
  {
   "cell_type": "code",
   "execution_count": 29,
   "id": "f676e030-db1d-4626-b5e4-d994a932640b",
   "metadata": {},
   "outputs": [
    {
     "name": "stdout",
     "output_type": "stream",
     "text": [
      "1\n",
      "3\n",
      "5\n",
      "7\n",
      "9\n"
     ]
    }
   ],
   "source": [
    "#Menggunakan while dengan contonue untuk mencetak angka ganjil dari 1 sampai 10\n",
    "i = 1\n",
    "while i <= 10:\n",
    "    if i % 2 == 0:  # Cek jika angka genap\n",
    "        i += 1\n",
    "        continue  # Lompat ke iterasi berikutnya jika genap\n",
    "    print(i)  # Cetak angka ganjil\n",
    "    i += 1\n"
   ]
  },
  {
   "cell_type": "code",
   "execution_count": 27,
   "id": "a4eb7b92-1b8f-4540-9268-7ee371b39eeb",
   "metadata": {},
   "outputs": [
    {
     "name": "stdout",
     "output_type": "stream",
     "text": [
      "Bilangan 1 Ganjil\n",
      "Bilangan  2 Genap\n",
      "Bilangan 3 Ganjil\n",
      "Bilangan  4 Genap\n",
      "Bilangan 5 Ganjil\n",
      "Bilangan  6 Genap\n"
     ]
    }
   ],
   "source": [
    "#Kombinasi perulangan dan percabangan\n",
    "for x in [1,2,3,4,5,6]:\n",
    "    if x%2==0: #jika x modula 2 sama dengan 0 maka genap\n",
    "        print('Bilangan ',x, 'Genap')\n",
    "    else:\n",
    "        print('Bilangan',x,'Ganjil')"
   ]
  },
  {
   "cell_type": "code",
   "execution_count": 25,
   "id": "8e78fe94-c3b9-4701-9d34-17c3291f49ca",
   "metadata": {},
   "outputs": [
    {
     "name": "stdout",
     "output_type": "stream",
     "text": [
      "Hello from a function\n",
      "saya belajar fungsi\n",
      "Hello from a function\n",
      "saya belajar fungsi\n",
      "Hello from a function\n",
      "saya belajar fungsi\n"
     ]
    }
   ],
   "source": [
    "#Mengenal fungsi/sub program\n",
    "#Sub program/fungsi adalah program pendek yang dibuat sebagai\n",
    "#Modul khusus sesuai kebutuhan kita\n",
    "#Sub program/fungsi didefinisikan dengan perintah : def\n",
    "\n",
    "def my_fungsi():\n",
    "    print(\"Hello from a function\")\n",
    "    print(\"saya belajar fungsi\")\n",
    "#Bagian untuk panggilan fungsi :\n",
    "my_fungsi()\n",
    "my_fungsi()\n",
    "my_fungsi()\n",
    "#jika fungsi tidak pernah dipanggil, maka tidak akan pernah dijalankan oleh [ython\n"
   ]
  },
  {
   "cell_type": "code",
   "execution_count": 23,
   "id": "443d07a5-6aca-462a-b005-9ddf2e0abd41",
   "metadata": {},
   "outputs": [
    {
     "name": "stdout",
     "output_type": "stream",
     "text": [
      "Hello from a function\n",
      "saya belajar fungsi\n",
      "Hello from a function\n",
      "saya belajar fungsi\n",
      "Hello from a function\n",
      "saya belajar fungsi\n"
     ]
    }
   ],
   "source": [
    "def my_fungsi():\n",
    "    print(\"Hello from a function\")\n",
    "    print(\"saya belajar fungsi\")\n",
    "\n",
    "my_fungsi()\n",
    "my_fungsi()\n",
    "my_fungsi()"
   ]
  },
  {
   "cell_type": "code",
   "execution_count": null,
   "id": "5b5ebdb7-a18a-43db-816c-f66442bef38d",
   "metadata": {},
   "outputs": [],
   "source": []
  },
  {
   "cell_type": "code",
   "execution_count": 1,
   "id": "9c9bd1dd-ffa7-44aa-a188-54c3890c660f",
   "metadata": {},
   "outputs": [
    {
     "name": "stdout",
     "output_type": "stream",
     "text": [
      "luas persegi panjang dengan p=5,l=6 adalah 30\n",
      "luas persegi panjang dengan p=10,l=6 adalah 60\n",
      "luas persegi panjang dengan p=15,l=10 adalah 150\n"
     ]
    }
   ],
   "source": [
    "#parameter fungsi(mengirim nilai ke fungsi)\n",
    "def persegipanjang(panjang,lebar):\n",
    "    luas=panjang*lebar\n",
    "    return luas #perintah return berguna untuk mengembalikan\n",
    "                #suatu nilai ke source code panggilannya\n",
    "\n",
    "print('luas persegi panjang dengan p=5,l=6 adalah',persegipanjang(5,6))\n",
    "print('luas persegi panjang dengan p=10,l=6 adalah',persegipanjang(10,6))\n",
    "print('luas persegi panjang dengan p=15,l=10 adalah',persegipanjang(15,10))"
   ]
  },
  {
   "cell_type": "code",
   "execution_count": 5,
   "id": "ad16c532-4d58-440b-b86c-ddc2123e1868",
   "metadata": {},
   "outputs": [
    {
     "name": "stdout",
     "output_type": "stream",
     "text": [
      "['apple', 'banana', 'cherry']\n",
      "3\n"
     ]
    }
   ],
   "source": [
    "#Mengenalvariabel array/List\n",
    "#List adalah sebuah variabel yang isinya ada beberapa/banyak data\n",
    "#Contoh berikut variabel thislist berisi 3 data\n",
    "#Contoh diambil da\n",
    "thislist = [\"apple\", \"banana\", \"cherry\"]\n",
    "\n",
    "print(thislist)\n",
    "print(len(thislist)) #fungsi len gunanya untuk menampilkan jumlah data dalam thislist"
   ]
  },
  {
   "cell_type": "code",
   "execution_count": 7,
   "id": "c6353135-fe2b-4018-9632-06a3fbb03cf9",
   "metadata": {},
   "outputs": [
    {
     "name": "stdout",
     "output_type": "stream",
     "text": [
      "['apple', 5, True, -10, 0.315]\n",
      "5\n"
     ]
    }
   ],
   "source": [
    "#Mengenalvariabel array/List\n",
    "#List adalah sebuah variabel yang isinya ada beberapa/banyak data\n",
    "#Contoh berikut variabel thislist berisi 3 data\n",
    "#Contoh diambil da\n",
    "thislist = [\"apple\", 5, True, -10, 0.315]\n",
    "\n",
    "print(thislist)\n",
    "print(len(thislist)) #fungsi len gunanya untuk menampilkan jumlah data dalam thislist"
   ]
  },
  {
   "cell_type": "code",
   "execution_count": 9,
   "id": "875004d6-44c5-45dc-b7b6-466d6d4ccd00",
   "metadata": {},
   "outputs": [
    {
     "name": "stdout",
     "output_type": "stream",
     "text": [
      "apple\n",
      "banana\n",
      "cherry\n",
      "cherry\n",
      "banana\n"
     ]
    }
   ],
   "source": [
    "#Cara mengakses satu isi list dengan menyebut nomor indeks\n",
    "thislist = [\"apple\", \"banana\", \"cherry\"]\n",
    "#noindex : 0 1 2 (dari kiri)\n",
    "#noindex : -3 -2 -1 (dari kanan)\n",
    "print(thislist[0])\n",
    "print(thislist[1])\n",
    "print(thislist[2])\n",
    "print(thislist[-1])\n",
    "print(thislist[-2])"
   ]
  },
  {
   "cell_type": "code",
   "execution_count": 11,
   "id": "9b0d3757-4de0-4b83-8f96-3c597d1806b2",
   "metadata": {},
   "outputs": [
    {
     "name": "stdout",
     "output_type": "stream",
     "text": [
      "['cherry', 'kiwi', 'melon']\n",
      "['apple', 'banana', 'cherry', 'kiwi']\n",
      "['cherry', 'kiwi', 'melon', 'mango']\n",
      "['cherry', 'kiwi', 'melon']\n",
      "Yes, 'banana' is in the fruits list\n",
      "Banana in index:  1\n"
     ]
    }
   ],
   "source": [
    "#Cara mengakses beberapa isi list dengan menyebut nomor indeks awal/akhir\n",
    "thislist=[\"apple\", \"banana\", \"cherry\", \"kiwi\", \"melon\", \"mango\"]\n",
    "print(thislist[2:5])\n",
    "print(thislist[ :4])\n",
    "print(thislist[2: ])\n",
    "print(thislist[-4:-1])\n",
    "if \"banana\" in thislist:\n",
    "    print(\"Yes, 'banana' is in the fruits list\")\n",
    "    print('Banana in index: ',thislist.index('banana'))"
   ]
  },
  {
   "cell_type": "code",
   "execution_count": 19,
   "id": "bc4c85ff-5dd5-4b7f-8fcc-baac8a9ab0a5",
   "metadata": {},
   "outputs": [
    {
     "name": "stdout",
     "output_type": "stream",
     "text": [
      "['apple', 'blackcurrant', 'cherry', 'orange', 'kiwi', 'melon', 'mango']\n",
      "['apple', 'blackcurrant', 'watermelon', 'orange', 'kiwi', 'mango']\n"
     ]
    }
   ],
   "source": [
    "#Mengganti satu atau sebagian isi list\n",
    "thislist = [\"apple\", \"banana\", \"cherry\", \"orange\", \"kiwi\", \"melon\", \"mango\"]\n",
    "thislist[1] = \"blackcurrant\" #mengganti satu data\n",
    "print(thislist)\n",
    "thislist = [\"apple\", \"banana\", \"cherry\", \"orange\", \"kiwi\", \"mango\"]\n",
    "thislist[1:3] = [\"blackcurrant\", \"watermelon\"] #ganti beberapa data\n",
    "print(thislist)"
   ]
  },
  {
   "cell_type": "code",
   "execution_count": 21,
   "id": "0d236ce5-83f1-411c-a2a7-8ce344973fe2",
   "metadata": {},
   "outputs": [
    {
     "name": "stdout",
     "output_type": "stream",
     "text": [
      "['apple', 'banana', 'cherry']\n",
      "['Jambu desa', 'apple', 'banana', 'cherry']\n",
      "['Jambu desa', 'apple', 'Anggur', 'banana', 'cherry']\n",
      "['Jambu desa', 'apple', 'Anggur', 'banana', 'cherry', 'orange']\n"
     ]
    }
   ],
   "source": [
    "#Menambah isi list dari posisi tengah dan belakang\n",
    "thislist = [\"apple\", \"banana\", \"cherry\"]\n",
    "print(thislist)\n",
    "thislist.insert(0,\"Jambu desa\") #menyisipkan di awal, index no 0\n",
    "print(thislist)\n",
    "thislist.insert(2,\"Anggur\") #menyisipkan di awal, index no 2\n",
    "print(thislist)\n",
    "thislist.append(\"orange\") #menyisipkan di belakang\n",
    "print(thislist)"
   ]
  },
  {
   "cell_type": "code",
   "execution_count": 41,
   "id": "428db6e9-ee4f-4e48-a50b-c0a090b77430",
   "metadata": {},
   "outputs": [
    {
     "name": "stdout",
     "output_type": "stream",
     "text": [
      "Result:  ['Python', 'PHP', 'Java', ['C', 'C++', 'C#']]\n",
      "Panjang Languages 1 : 4\n"
     ]
    }
   ],
   "source": [
    "#menggabungkan dua list menggunakan append\n",
    "languages1=['Python','PHP','Java',]\n",
    "languages2=['C','C++','C#']\n",
    "#Menambahkan list 2 ke list 1 dengan perintah append\n",
    "languages1.append(languages2)\n",
    "print('Result: ',languages1)\n",
    "print('Panjang Languages 1 :',len(languages1))"
   ]
  },
  {
   "cell_type": "code",
   "execution_count": 43,
   "id": "fe4413ed-ff5d-4a88-9466-af43a6d31616",
   "metadata": {},
   "outputs": [
    {
     "name": "stdout",
     "output_type": "stream",
     "text": [
      "Result:  ['Python', 'PHP', 'Java', 'C', 'C++', 'C#']\n",
      "Panjang Languages 1 : 6\n"
     ]
    }
   ],
   "source": [
    "#menggabungkan dua list menggunakan append\n",
    "languages1=['Python','PHP','Java',]\n",
    "languages2=['C','C++','C#']\n",
    "#Menambahkan list 2 ke list 1 dengan perintah append\n",
    "languages1.extend(languages2)\n",
    "print('Result: ',languages1)\n",
    "print('Panjang Languages 1 :',len(languages1))"
   ]
  },
  {
   "cell_type": "code",
   "execution_count": 45,
   "id": "dc51da26-93e9-4d11-993f-9dfb9bba3e5b",
   "metadata": {},
   "outputs": [
    {
     "name": "stdout",
     "output_type": "stream",
     "text": [
      "['apple', 'banana', 'cherry']\n",
      "('apple', 'banana', 'cherry')\n"
     ]
    }
   ],
   "source": [
    "#Tipe data Tuple\n",
    "#Tuple adalah sekumpulan data mirip list tapi tidak bisa di edit/tambah\n",
    "#ciri-ciri : diawali tanda kurung ()\n",
    "#bandingkan dengan list :\n",
    "fruits = [\"apple\", \"banana\", \"cherry\"]\n",
    "print(fruits)\n",
    "#tuple :\n",
    "thistuple = (\"apple\", \"banana\", \"cherry\")\n",
    "print(thistuple)"
   ]
  },
  {
   "cell_type": "code",
   "execution_count": 49,
   "id": "bf72ca41-d987-44d1-943d-a88f1a414f16",
   "metadata": {},
   "outputs": [
    {
     "name": "stdout",
     "output_type": "stream",
     "text": [
      "{'brand': 'Ford', 'model': 'Mustang', 'year': 1946}\n"
     ]
    }
   ],
   "source": [
    "#Tipe data Dictionary\n",
    "#Ciri-cirinya : berpasangan, diawali {}\n",
    "#setiap pasangan dipisahkan dengan tanda koma ,\n",
    "#dalam sebuah pasangan, sisi kiri dan kanan dipisahkan tanda :\n",
    "thisdict = {\n",
    "    \"brand\": \"Ford\",\n",
    "    \"model\" : \"Mustang\",\n",
    "    \"year\" : 1946\n",
    "}\n",
    "print(thisdict)"
   ]
  },
  {
   "cell_type": "code",
   "execution_count": 51,
   "id": "b357167d-a809-4f8c-bde5-7dc6b295ec71",
   "metadata": {},
   "outputs": [
    {
     "name": "stdout",
     "output_type": "stream",
     "text": [
      "   A  B  C\n",
      "0  1  2  3\n",
      "1  4  5  6\n",
      "2  7  8  9\n"
     ]
    },
    {
     "data": {
      "text/html": [
       "<div>\n",
       "<style scoped>\n",
       "    .dataframe tbody tr th:only-of-type {\n",
       "        vertical-align: middle;\n",
       "    }\n",
       "\n",
       "    .dataframe tbody tr th {\n",
       "        vertical-align: top;\n",
       "    }\n",
       "\n",
       "    .dataframe thead th {\n",
       "        text-align: right;\n",
       "    }\n",
       "</style>\n",
       "<table border=\"1\" class=\"dataframe\">\n",
       "  <thead>\n",
       "    <tr style=\"text-align: right;\">\n",
       "      <th></th>\n",
       "      <th>A</th>\n",
       "      <th>B</th>\n",
       "      <th>C</th>\n",
       "    </tr>\n",
       "  </thead>\n",
       "  <tbody>\n",
       "    <tr>\n",
       "      <th>0</th>\n",
       "      <td>1</td>\n",
       "      <td>2</td>\n",
       "      <td>3</td>\n",
       "    </tr>\n",
       "    <tr>\n",
       "      <th>1</th>\n",
       "      <td>4</td>\n",
       "      <td>5</td>\n",
       "      <td>6</td>\n",
       "    </tr>\n",
       "    <tr>\n",
       "      <th>2</th>\n",
       "      <td>7</td>\n",
       "      <td>8</td>\n",
       "      <td>9</td>\n",
       "    </tr>\n",
       "  </tbody>\n",
       "</table>\n",
       "</div>"
      ],
      "text/plain": [
       "   A  B  C\n",
       "0  1  2  3\n",
       "1  4  5  6\n",
       "2  7  8  9"
      ]
     },
     "execution_count": 51,
     "metadata": {},
     "output_type": "execute_result"
    }
   ],
   "source": [
    "#pandas adalah library python khusus untuk data analisis\n",
    "#berikut cara import library pandas sekaligus bikin nama alisa :pd\n",
    "import pandas as pd\n",
    "#membuat tabel pandas baru bertipe datafrase dengan nama : df\n",
    "#pd dipakai untuk membiuat tabel pandas baru dari sebuah dictionary\n",
    "dict={\"A\":[1,4,7],\n",
    "      \"B\":[2,5,8],\n",
    "      \"C\":[3,6,9]}\n",
    "df = pd.DataFrame(dict) #df berupa tabel pandas\n",
    "print(df)\n",
    "df\n",
    "      \n",
    "      \n"
   ]
  },
  {
   "cell_type": "code",
   "execution_count": 59,
   "id": "c417c690-24ec-4859-86bc-b1693f09d226",
   "metadata": {},
   "outputs": [
    {
     "name": "stdout",
     "output_type": "stream",
     "text": [
      "     Nama  Usia       Kota\n",
      "0  Sherly    19    Bandung\n",
      "1  Amelia    20    Jakarta\n",
      "2   Putri    21  Tangerang\n"
     ]
    }
   ],
   "source": [
    "import pandas as pd\n",
    "#Membuat DataFrame\n",
    "data={\n",
    "    'Nama':['Sherly', 'Amelia','Putri'],\n",
    "    'Usia':[19,20,21],\n",
    "    'Kota':['Bandung', 'Jakarta','Tangerang']\n",
    "    }\n",
    "df = pd.DataFrame(data)\n",
    "print(df)"
   ]
  },
  {
   "cell_type": "code",
   "execution_count": 63,
   "id": "db3e6e19-0207-4f64-96d6-6978dde6affd",
   "metadata": {},
   "outputs": [
    {
     "name": "stdout",
     "output_type": "stream",
     "text": [
      "Usia baris pertama: 19\n",
      "     Nama  Usia       Kota Pekerjaan\n",
      "0  Sherly    19   Pemalang  Engineer\n",
      "1  Amelia    20    Jakarta    Doctor\n",
      "2   Putri    21  Tangerang    Artist\n"
     ]
    }
   ],
   "source": [
    "#Mengakses data\n",
    "usia_baris_pertama = df.loc[0, 'Usia']\n",
    "print('Usia baris pertama:', usia_baris_pertama)\n",
    "\n",
    "#Menambahkan kolom baru\n",
    "df['Pekerjaan'] = ['Engineer', 'Doctor', 'Artist']\n",
    "\n",
    "#Mengubah nilai di kolom 'kota'\n",
    "df.loc[df['Nama']=='Sherly', 'Kota']='Pemalang'\n",
    "\n",
    "print(df)"
   ]
  },
  {
   "cell_type": "code",
   "execution_count": 28,
   "id": "0d155718-783e-402e-9a4b-02ee8b3e44c9",
   "metadata": {},
   "outputs": [
    {
     "ename": "KeyError",
     "evalue": "'Usia'",
     "output_type": "error",
     "traceback": [
      "\u001b[1;31m---------------------------------------------------------------------------\u001b[0m",
      "\u001b[1;31mKeyError\u001b[0m                                  Traceback (most recent call last)",
      "File \u001b[1;32m~\\anaconda3\\Lib\\site-packages\\pandas\\core\\indexes\\base.py:3805\u001b[0m, in \u001b[0;36mIndex.get_loc\u001b[1;34m(self, key)\u001b[0m\n\u001b[0;32m   3804\u001b[0m \u001b[38;5;28;01mtry\u001b[39;00m:\n\u001b[1;32m-> 3805\u001b[0m     \u001b[38;5;28;01mreturn\u001b[39;00m \u001b[38;5;28mself\u001b[39m\u001b[38;5;241m.\u001b[39m_engine\u001b[38;5;241m.\u001b[39mget_loc(casted_key)\n\u001b[0;32m   3806\u001b[0m \u001b[38;5;28;01mexcept\u001b[39;00m \u001b[38;5;167;01mKeyError\u001b[39;00m \u001b[38;5;28;01mas\u001b[39;00m err:\n",
      "File \u001b[1;32mindex.pyx:167\u001b[0m, in \u001b[0;36mpandas._libs.index.IndexEngine.get_loc\u001b[1;34m()\u001b[0m\n",
      "File \u001b[1;32mindex.pyx:196\u001b[0m, in \u001b[0;36mpandas._libs.index.IndexEngine.get_loc\u001b[1;34m()\u001b[0m\n",
      "File \u001b[1;32mpandas\\\\_libs\\\\hashtable_class_helper.pxi:7081\u001b[0m, in \u001b[0;36mpandas._libs.hashtable.PyObjectHashTable.get_item\u001b[1;34m()\u001b[0m\n",
      "File \u001b[1;32mpandas\\\\_libs\\\\hashtable_class_helper.pxi:7089\u001b[0m, in \u001b[0;36mpandas._libs.hashtable.PyObjectHashTable.get_item\u001b[1;34m()\u001b[0m\n",
      "\u001b[1;31mKeyError\u001b[0m: 'Usia'",
      "\nThe above exception was the direct cause of the following exception:\n",
      "\u001b[1;31mKeyError\u001b[0m                                  Traceback (most recent call last)",
      "Cell \u001b[1;32mIn[28], line 3\u001b[0m\n\u001b[0;32m      1\u001b[0m \u001b[38;5;28;01mimport\u001b[39;00m \u001b[38;5;21;01mpandas\u001b[39;00m \u001b[38;5;28;01mas\u001b[39;00m \u001b[38;5;21;01mpd\u001b[39;00m\n\u001b[0;32m      2\u001b[0m \u001b[38;5;66;03m# Memfilter DataFrame\u001b[39;00m\n\u001b[1;32m----> 3\u001b[0m filtered_df \u001b[38;5;241m=\u001b[39m df[df[\u001b[38;5;124m'\u001b[39m\u001b[38;5;124mUsia\u001b[39m\u001b[38;5;124m'\u001b[39m] \u001b[38;5;241m>\u001b[39m \u001b[38;5;241m20\u001b[39m]\n\u001b[0;32m      4\u001b[0m \u001b[38;5;28mprint\u001b[39m(\u001b[38;5;124m'\u001b[39m\u001b[38;5;124mData setelah filter:\u001b[39m\u001b[38;5;130;01m\\n\u001b[39;00m\u001b[38;5;124m'\u001b[39m, filtered_df)\n\u001b[0;32m      6\u001b[0m \u001b[38;5;66;03m# Mengurutkan DataFrame\u001b[39;00m\n",
      "File \u001b[1;32m~\\anaconda3\\Lib\\site-packages\\pandas\\core\\frame.py:4102\u001b[0m, in \u001b[0;36mDataFrame.__getitem__\u001b[1;34m(self, key)\u001b[0m\n\u001b[0;32m   4100\u001b[0m \u001b[38;5;28;01mif\u001b[39;00m \u001b[38;5;28mself\u001b[39m\u001b[38;5;241m.\u001b[39mcolumns\u001b[38;5;241m.\u001b[39mnlevels \u001b[38;5;241m>\u001b[39m \u001b[38;5;241m1\u001b[39m:\n\u001b[0;32m   4101\u001b[0m     \u001b[38;5;28;01mreturn\u001b[39;00m \u001b[38;5;28mself\u001b[39m\u001b[38;5;241m.\u001b[39m_getitem_multilevel(key)\n\u001b[1;32m-> 4102\u001b[0m indexer \u001b[38;5;241m=\u001b[39m \u001b[38;5;28mself\u001b[39m\u001b[38;5;241m.\u001b[39mcolumns\u001b[38;5;241m.\u001b[39mget_loc(key)\n\u001b[0;32m   4103\u001b[0m \u001b[38;5;28;01mif\u001b[39;00m is_integer(indexer):\n\u001b[0;32m   4104\u001b[0m     indexer \u001b[38;5;241m=\u001b[39m [indexer]\n",
      "File \u001b[1;32m~\\anaconda3\\Lib\\site-packages\\pandas\\core\\indexes\\base.py:3812\u001b[0m, in \u001b[0;36mIndex.get_loc\u001b[1;34m(self, key)\u001b[0m\n\u001b[0;32m   3807\u001b[0m     \u001b[38;5;28;01mif\u001b[39;00m \u001b[38;5;28misinstance\u001b[39m(casted_key, \u001b[38;5;28mslice\u001b[39m) \u001b[38;5;129;01mor\u001b[39;00m (\n\u001b[0;32m   3808\u001b[0m         \u001b[38;5;28misinstance\u001b[39m(casted_key, abc\u001b[38;5;241m.\u001b[39mIterable)\n\u001b[0;32m   3809\u001b[0m         \u001b[38;5;129;01mand\u001b[39;00m \u001b[38;5;28many\u001b[39m(\u001b[38;5;28misinstance\u001b[39m(x, \u001b[38;5;28mslice\u001b[39m) \u001b[38;5;28;01mfor\u001b[39;00m x \u001b[38;5;129;01min\u001b[39;00m casted_key)\n\u001b[0;32m   3810\u001b[0m     ):\n\u001b[0;32m   3811\u001b[0m         \u001b[38;5;28;01mraise\u001b[39;00m InvalidIndexError(key)\n\u001b[1;32m-> 3812\u001b[0m     \u001b[38;5;28;01mraise\u001b[39;00m \u001b[38;5;167;01mKeyError\u001b[39;00m(key) \u001b[38;5;28;01mfrom\u001b[39;00m \u001b[38;5;21;01merr\u001b[39;00m\n\u001b[0;32m   3813\u001b[0m \u001b[38;5;28;01mexcept\u001b[39;00m \u001b[38;5;167;01mTypeError\u001b[39;00m:\n\u001b[0;32m   3814\u001b[0m     \u001b[38;5;66;03m# If we have a listlike key, _check_indexing_error will raise\u001b[39;00m\n\u001b[0;32m   3815\u001b[0m     \u001b[38;5;66;03m#  InvalidIndexError. Otherwise we fall through and re-raise\u001b[39;00m\n\u001b[0;32m   3816\u001b[0m     \u001b[38;5;66;03m#  the TypeError.\u001b[39;00m\n\u001b[0;32m   3817\u001b[0m     \u001b[38;5;28mself\u001b[39m\u001b[38;5;241m.\u001b[39m_check_indexing_error(key)\n",
      "\u001b[1;31mKeyError\u001b[0m: 'Usia'"
     ]
    }
   ],
   "source": [
    "import pandas as pd\n",
    "# Memfilter DataFrame\n",
    "filtered_df = df[df['Usia'] > 20]\n",
    "print('Data setelah filter:\\n', filtered_df)\n",
    "\n",
    "# Mengurutkan DataFrame\n",
    "sorted_df = df.sort_values(by='Usia', ascending=False)\n",
    "print('Data setelah diurutkan:\\n', sorted_df)"
   ]
  },
  {
   "cell_type": "code",
   "execution_count": 24,
   "id": "37d48ca8-e22e-48b7-9ec5-ad99ce72912d",
   "metadata": {},
   "outputs": [
    {
     "name": "stdout",
     "output_type": "stream",
     "text": [
      "  Kategori  Nilai\n",
      "0        A     10\n",
      "1        B     20\n",
      "2        A     30\n",
      "3        B     40\n",
      "Total nilai per kategori:\n",
      "           Nilai\n",
      "Kategori       \n",
      "A            40\n",
      "B            60\n"
     ]
    }
   ],
   "source": [
    "import pandas as pd  \n",
    "# Membuat DataFrame untuk Grouping-SUM yang kategorinya sama\n",
    "data = {\n",
    "    'Kategori': ['A', 'B', 'A', 'B'],\n",
    "    'Nilai': [10, 20, 30, 40]\n",
    "}\n",
    "df = pd.DataFrame(data)\n",
    "print(df)\n",
    "# Mengelompokkan dan menghitung total nilai\n",
    "grouped_df = df.groupby('Kategori').sum()\n",
    "print('Total nilai per kategori:\\n', grouped_df)"
   ]
  },
  {
   "cell_type": "code",
   "execution_count": 26,
   "id": "b4a34d15-86ae-4b53-8afb-2eb05090b207",
   "metadata": {},
   "outputs": [
    {
     "name": "stdout",
     "output_type": "stream",
     "text": [
      "  Kategori  Nilai\n",
      "0    Lulus     85\n",
      "1    Lulus     90\n",
      "2    Lulus     75\n",
      "3    Gagal     40\n"
     ]
    }
   ],
   "source": [
    "import pandas as pd  \n",
    "#Membuat DataFrame\n",
    "data= {\n",
    "    'Kategori': ['Sherly', 'Amelia', 'Putri', 'Salsabila'],\n",
    "    'Nilai': [85,90,75,40]\n",
    "}\n",
    "df = pd.DataFrame(data)\n",
    "#Fungsi untuk mengkategorikan nilai\n",
    "def categorize(nilai):\n",
    "    return 'Lulus' if nilai>50 else 'Gagal'\n",
    "\n",
    "#Menggunakan apply untuk menerapkan fungsi\n",
    "df['Kategori'] = df['Nilai'].apply(categorize)\n",
    "print(df)"
   ]
  },
  {
   "cell_type": "code",
   "execution_count": 101,
   "id": "7bf15e37-2072-4fd8-b75c-f8b9771dae7d",
   "metadata": {},
   "outputs": [
    {
     "name": "stdout",
     "output_type": "stream",
     "text": [
      "DataFrame yang digabungkan:\n",
      "    ID    Nama  Usia\n",
      "0   1  Sherly    20\n",
      "1   2  Amelia    23\n"
     ]
    }
   ],
   "source": [
    "\n",
    "#Membuat DataFrame pertama\n",
    "df1 = pd.DataFrame({\n",
    "    'ID': [1,2],\n",
    "    'Nama': ['Sherly', 'Amelia']\n",
    "})\n",
    "\n",
    "#Membuat DataFrame kedua\n",
    "df2 = pd.DataFrame({\n",
    "    'ID':[1,2],\n",
    "    'Usia': [20, 23]\n",
    "})\n",
    "\n",
    "#Menggabungkan DataFrame\n",
    "merged_df = pd.merge(df1, df2, on='ID')\n",
    "print('DataFrame yang digabungkan:\\n', merged_df)\n"
   ]
  },
  {
   "cell_type": "code",
   "execution_count": 89,
   "id": "42c5073e-0a95-4665-9a26-cd0cd8f5b769",
   "metadata": {},
   "outputs": [
    {
     "name": "stdout",
     "output_type": "stream",
     "text": [
      "DataFrame setelah menghapus duplikat dan mengisi nilai yang hilang:\n",
      "         Nama  Usia\n",
      "0      Putri  25.0\n",
      "1     Amelia  30.0\n",
      "3  Salsabila  27.5\n"
     ]
    }
   ],
   "source": [
    "#Membyat DataFrame dengan duplikat dan nilai yang hilang\n",
    "df = pd.DataFrame({\n",
    "     'Nama': ['Putri', 'Amelia', 'Putri', 'Salsabila'],\n",
    "    'Usia': [25, 30, 25, None]\n",
    "})\n",
    "#Menghapus baris duplikat\n",
    "df=df.drop_duplicates()\n",
    "#Mengisi nilai yang hilang dengan nilai rata-rata\n",
    "df['Usia'] =df['Usia'].fillna(df['Usia'].mean())\n",
    "print('DataFrame setelah menghapus duplikat dan mengisi nilai yang hilang:\\n', df)\n",
    "    "
   ]
  },
  {
   "cell_type": "code",
   "execution_count": 97,
   "id": "d40043c1-4110-4800-9260-dc37b6a7dfde",
   "metadata": {},
   "outputs": [
    {
     "name": "stdout",
     "output_type": "stream",
     "text": [
      "Data untuk produk dengan Kode A002:\n",
      " Produk    Pisang\n",
      "Harga        200\n",
      "Diskon      20.0\n",
      "Name: A002, dtype: object\n"
     ]
    },
    {
     "data": {
      "text/html": [
       "<div>\n",
       "<style scoped>\n",
       "    .dataframe tbody tr th:only-of-type {\n",
       "        vertical-align: middle;\n",
       "    }\n",
       "\n",
       "    .dataframe tbody tr th {\n",
       "        vertical-align: top;\n",
       "    }\n",
       "\n",
       "    .dataframe thead th {\n",
       "        text-align: right;\n",
       "    }\n",
       "</style>\n",
       "<table border=\"1\" class=\"dataframe\">\n",
       "  <thead>\n",
       "    <tr style=\"text-align: right;\">\n",
       "      <th></th>\n",
       "      <th>Produk</th>\n",
       "      <th>Harga</th>\n",
       "      <th>Diskon</th>\n",
       "    </tr>\n",
       "    <tr>\n",
       "      <th>Kode</th>\n",
       "      <th></th>\n",
       "      <th></th>\n",
       "      <th></th>\n",
       "    </tr>\n",
       "  </thead>\n",
       "  <tbody>\n",
       "    <tr>\n",
       "      <th>A001</th>\n",
       "      <td>Apel</td>\n",
       "      <td>100</td>\n",
       "      <td>10.0</td>\n",
       "    </tr>\n",
       "    <tr>\n",
       "      <th>A002</th>\n",
       "      <td>Pisang</td>\n",
       "      <td>200</td>\n",
       "      <td>20.0</td>\n",
       "    </tr>\n",
       "    <tr>\n",
       "      <th>A003</th>\n",
       "      <td>Jeruk</td>\n",
       "      <td>300</td>\n",
       "      <td>30.0</td>\n",
       "    </tr>\n",
       "  </tbody>\n",
       "</table>\n",
       "</div>"
      ],
      "text/plain": [
       "      Produk  Harga  Diskon\n",
       "Kode                       \n",
       "A001    Apel    100    10.0\n",
       "A002  Pisang    200    20.0\n",
       "A003   Jeruk    300    30.0"
      ]
     },
     "execution_count": 97,
     "metadata": {},
     "output_type": "execute_result"
    }
   ],
   "source": [
    "#Membuat DataFrame\n",
    "df= pd.DataFrame({\n",
    "    'Kode': ['A001', 'A002', 'A003'],\n",
    "    'Produk': ['Apel', 'Pisang', 'Jeruk'],\n",
    "    'Harga': [100, 200, 300]\n",
    "})\n",
    "#Mengatur kolom 'Kode' sebagai index\n",
    "df.set_index('Kode', inplace=True)\n",
    "#Menambahkan kolom 'Diskon'\n",
    "df['Diskon'] = df['Harga']*0.10\n",
    "#Menampilkan data untuk 'Kode' A002\n",
    "print('Data untuk produk dengan Kode A002:\\n', df.loc['A002'])\n",
    "df"
   ]
  },
  {
   "cell_type": "code",
   "execution_count": null,
   "id": "09525c91-1f00-496d-9d06-b742a9b30b65",
   "metadata": {},
   "outputs": [],
   "source": []
  }
 ],
 "metadata": {
  "kernelspec": {
   "display_name": "Python 3 (ipykernel)",
   "language": "python",
   "name": "python3"
  },
  "language_info": {
   "codemirror_mode": {
    "name": "ipython",
    "version": 3
   },
   "file_extension": ".py",
   "mimetype": "text/x-python",
   "name": "python",
   "nbconvert_exporter": "python",
   "pygments_lexer": "ipython3",
   "version": "3.12.4"
  }
 },
 "nbformat": 4,
 "nbformat_minor": 5
}
